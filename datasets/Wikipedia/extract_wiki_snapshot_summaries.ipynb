{
 "cells": [
  {
   "cell_type": "markdown",
   "metadata": {},
   "source": [
    "This notebook scans the full wikipedia snapshot and obtains summary for each article and saves in a separate tsv file. This is done to avoid reading the full wikipedia snapshot for each article for the rest of the tasks."
   ]
  },
  {
   "cell_type": "code",
   "execution_count": 1,
   "metadata": {},
   "outputs": [],
   "source": [
    "import importlib\n",
    "import pandas as pd\n",
    "import os\n",
    "import time\n",
    "\n",
    "import src.wiki_parser as wiki_parser\n",
    "\n",
    "_ = importlib.reload(wiki_parser)"
   ]
  },
  {
   "cell_type": "code",
   "execution_count": 2,
   "metadata": {},
   "outputs": [],
   "source": [
    "data_root_dir = '../../PublicDatasets/Wikipedia/'\n",
    "snapshot_name = 'enwiki-20240501-pages-articles-multistream'\n",
    "parser = wiki_parser.WikiParser(data_root_dir+snapshot_name+\"-index.txt.bz2\", \n",
    "                                data_root_dir+snapshot_name+\".xml.bz2\")\n",
    "\n",
    "data_output_dir = '../../PublicDatasets/Wikipedia/processed_summaries/'"
   ]
  },
  {
   "cell_type": "code",
   "execution_count": 3,
   "metadata": {},
   "outputs": [
    {
     "name": "stdout",
     "output_type": "stream",
     "text": [
      "Thread 9 completed. Pages seen: 2367143, Pages saved: 1885984, Pages failed parsing: 0\n",
      "Thread 3 completed. Pages seen: 2366992, Pages saved: 2029244, Pages failed parsing: 0\n",
      "Thread 2 completed. Pages seen: 2366803, Pages saved: 2035704, Pages failed parsing: 0\n",
      "Thread 4 completed. Pages seen: 2366901, Pages saved: 2014290, Pages failed parsing: 0\n",
      "Thread 6 completed. Pages seen: 2367003, Pages saved: 2010302, Pages failed parsing: 0\n",
      "Thread 8 completed. Pages seen: 2367064, Pages saved: 1914461, Pages failed parsing: 0\n",
      "Thread 7 completed. Pages seen: 2366974, Pages saved: 1960356, Pages failed parsing: 0\n",
      "Thread 5 completed. Pages seen: 2366983, Pages saved: 2029340, Pages failed parsing: 0\n",
      "Thread 1 completed. Pages seen: 2367001, Pages saved: 2057867, Pages failed parsing: 0\n",
      "Thread 0 completed. Pages seen: 2366706, Pages saved: 2165399, Pages failed parsing: 0\n",
      "Elapsed time (in minutes):  502.87300375302635\n"
     ]
    }
   ],
   "source": [
    "start_time = time.time()\n",
    "parser.dump_page_summary(data_output_dir, \n",
    "                         fraction=None, \n",
    "                         num_parallel_threads=10)\n",
    "print(\"Elapsed time (in minutes): \", (time.time()-start_time) / 60)"
   ]
  },
  {
   "cell_type": "code",
   "execution_count": null,
   "metadata": {},
   "outputs": [],
   "source": []
  },
  {
   "cell_type": "code",
   "execution_count": null,
   "metadata": {},
   "outputs": [],
   "source": []
  },
  {
   "cell_type": "code",
   "execution_count": null,
   "metadata": {},
   "outputs": [],
   "source": []
  },
  {
   "cell_type": "code",
   "execution_count": null,
   "metadata": {},
   "outputs": [],
   "source": []
  },
  {
   "cell_type": "code",
   "execution_count": null,
   "metadata": {},
   "outputs": [],
   "source": []
  },
  {
   "cell_type": "code",
   "execution_count": null,
   "metadata": {},
   "outputs": [],
   "source": []
  },
  {
   "cell_type": "code",
   "execution_count": null,
   "metadata": {},
   "outputs": [],
   "source": []
  }
 ],
 "metadata": {
  "kernelspec": {
   "display_name": "py39",
   "language": "python",
   "name": "python3"
  },
  "language_info": {
   "codemirror_mode": {
    "name": "ipython",
    "version": 3
   },
   "file_extension": ".py",
   "mimetype": "text/x-python",
   "name": "python",
   "nbconvert_exporter": "python",
   "pygments_lexer": "ipython3",
   "version": "3.9.17"
  }
 },
 "nbformat": 4,
 "nbformat_minor": 2
}
