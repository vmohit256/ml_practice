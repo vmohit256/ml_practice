{
 "cells": [
  {
   "cell_type": "code",
   "execution_count": 1,
   "metadata": {},
   "outputs": [],
   "source": [
    "import importlib\n",
    "import mwxml, bz2, random, json, time\n",
    "\n",
    "import src.wiki_parser as wiki_parser\n",
    "\n",
    "_ = importlib.reload(wiki_parser)"
   ]
  },
  {
   "cell_type": "code",
   "execution_count": 2,
   "metadata": {},
   "outputs": [],
   "source": [
    "data_root_dir = '/media/mohit/E6A87A13A879E30B/WikipediaDataset/data/'"
   ]
  },
  {
   "cell_type": "code",
   "execution_count": 3,
   "metadata": {},
   "outputs": [
    {
     "name": "stdout",
     "output_type": "stream",
     "text": [
      "Total count: 1000000.  {'CategoryPages': 37956, 'RedirectPages': 441786, 'ArticlePages': 520258}\n",
      "Total count: 2000000.  {'CategoryPages': 83109, 'RedirectPages': 949133, 'ArticlePages': 967758}\n",
      "Finished part 0 to 0 in 0.4125656962394714 minutes\n",
      "Total count: 3000000.  {'CategoryPages': 140595, 'RedirectPages': 1483441, 'ArticlePages': 1375964}\n",
      "Total count: 4000000.  {'CategoryPages': 209218, 'RedirectPages': 2013407, 'ArticlePages': 1777375}\n",
      "Finished part 0 to 1 in 0.7056660215059917 minutes\n",
      "Total count: 5000000.  {'CategoryPages': 269597, 'RedirectPages': 2626450, 'ArticlePages': 2103953}\n",
      "Total count: 6000000.  {'CategoryPages': 349075, 'RedirectPages': 3161953, 'ArticlePages': 2488972}\n",
      "Finished part 0 to 2 in 0.984477452437083 minutes\n",
      "Total count: 7000000.  {'CategoryPages': 429585, 'RedirectPages': 3709978, 'ArticlePages': 2860437}\n",
      "Total count: 8000000.  {'CategoryPages': 525977, 'RedirectPages': 4282108, 'ArticlePages': 3191915}\n",
      "Finished part 0 to 3 in 1.279146683216095 minutes\n",
      "Total count: 9000000.  {'CategoryPages': 649058, 'RedirectPages': 4847473, 'ArticlePages': 3503469}\n",
      "Total count: 10000000.  {'CategoryPages': 787523, 'RedirectPages': 5370127, 'ArticlePages': 3842350}\n",
      "Finished part 0 to 4 in 1.5710666020711264 minutes\n",
      "Total count: 11000000.  {'CategoryPages': 952740, 'RedirectPages': 5891089, 'ArticlePages': 4156171}\n",
      "Total count: 12000000.  {'CategoryPages': 1081820, 'RedirectPages': 6419888, 'ArticlePages': 4498292}\n",
      "Finished part 0 to 5 in 1.8416211485862732 minutes\n",
      "Total count: 13000000.  {'CategoryPages': 1247407, 'RedirectPages': 6918036, 'ArticlePages': 4834557}\n",
      "Total count: 14000000.  {'CategoryPages': 1405954, 'RedirectPages': 7480778, 'ArticlePages': 5113268}\n",
      "Finished part 0 to 6 in 2.0819934765497843 minutes\n",
      "Total count: 15000000.  {'CategoryPages': 1580054, 'RedirectPages': 8021556, 'ArticlePages': 5398390}\n",
      "Total count: 16000000.  {'CategoryPages': 1729465, 'RedirectPages': 8573027, 'ArticlePages': 5697508}\n",
      "Finished part 0 to 7 in 2.3171996752421062 minutes\n",
      "Total count: 17000000.  {'CategoryPages': 1887419, 'RedirectPages': 9112121, 'ArticlePages': 6000460}\n",
      "Total count: 18000000.  {'CategoryPages': 2051126, 'RedirectPages': 9646147, 'ArticlePages': 6302727}\n",
      "Finished part 0 to 8 in 2.5417249759038287 minutes\n",
      "Total count: 19000000.  {'CategoryPages': 2176192, 'RedirectPages': 10279475, 'ArticlePages': 6544333}\n",
      "Total count: 20000000.  {'CategoryPages': 2332966, 'RedirectPages': 10872237, 'ArticlePages': 6794797}\n",
      "Finished part 0 to 9 in 2.7854755600293477 minutes\n",
      "\n",
      "Total count: 20102947.  {'CategoryPages': 2349420, 'RedirectPages': 10934440, 'ArticlePages': 6819087}\n"
     ]
    }
   ],
   "source": [
    "# count different types of pages in processed summaries\n",
    "summaries_dir = data_root_dir + 'processed_summaries/'\n",
    "\n",
    "counts = {\n",
    "    'CategoryPages': 0,\n",
    "    'RedirectPages': 0,\n",
    "    'ArticlePages': 0\n",
    "}\n",
    "\n",
    "start_time = time.time()\n",
    "for i in range(10):\n",
    "    with open(summaries_dir + f\"part-{i}.txt\", 'r') as f:\n",
    "        for line in f:\n",
    "            page = json.loads(line)\n",
    "            namespace = page['namespace']\n",
    "            title = page['title']\n",
    "            redirect_title = page['redirect_title']\n",
    "            if namespace == 14:\n",
    "                counts['CategoryPages'] += 1\n",
    "            elif namespace == 0:\n",
    "                if redirect_title:\n",
    "                    counts['RedirectPages'] += 1\n",
    "                else:\n",
    "                    counts['ArticlePages'] += 1\n",
    "            else:\n",
    "                print(f\"Unknown namespace: {namespace}\")\n",
    "            if sum(counts.values()) % 1000000 == 0:\n",
    "                print(f\"Total count: {sum(counts.values())}. \", counts)\n",
    "    print(f\"Finished part 0 to {i} in {(time.time() - start_time) / 60} minutes\")\n",
    "\n",
    "print(f\"\\nTotal count: {sum(counts.values())}. \", counts)"
   ]
  },
  {
   "cell_type": "code",
   "execution_count": null,
   "metadata": {},
   "outputs": [],
   "source": []
  },
  {
   "cell_type": "code",
   "execution_count": 3,
   "metadata": {},
   "outputs": [
    {
     "name": "stdout",
     "output_type": "stream",
     "text": [
      "Time taken to load the index: 63.99101638793945 seconds\n"
     ]
    }
   ],
   "source": [
    "# fetch full details of specific pages efficiently\n",
    "# load index\n",
    "snapshot_name = 'enwiki-20240501-pages-articles-multistream'\n",
    "\n",
    "start_time = time.time()\n",
    "parser = wiki_parser.WikiParser(data_root_dir+snapshot_name+\"-index.txt.bz2\", \n",
    "                                data_root_dir+snapshot_name+\".xml.bz2\")\n",
    "print (f\"Time taken to load the index: {time.time() - start_time} seconds\")"
   ]
  },
  {
   "cell_type": "code",
   "execution_count": 4,
   "metadata": {},
   "outputs": [
    {
     "name": "stdout",
     "output_type": "stream",
     "text": [
      "Total number of page ids in the snapshot:  23669656\n",
      "{'page_id': 3925581, 'title': 'List of drama films', 'redirect_title': None, 'namespace': 0, 'text': \"{{Short description|None}}\\n{{Dramafilmlist}}\\n'''List of drama films''' is a chronological listing of films in the [[drama]] genre.\\n\\n*[[List of drama films of the 1900s]]\\n*[[List of drama films of the 1910s]]\\n*[[List of drama films of the 1920s]]\\n*[[List of drama films of the 1930s]]\\n*[[List of drama films of the 1940s]]\\n*[[List of drama films of the 1950s]]\\n*[[List of drama films of the 1960s]]\\n*[[List of drama films of the 1970s]]\\n*[[List of drama films of the 1980s]]\\n*[[List of drama films of the 1990s]]\\n*[[List of drama films of the 2000s]]\\n*[[List of drama films of the 2010s]]\\n*[[List of drama films of the 2020s]]\\n\\n{{Filmsbygenre}}\\n\\n[[Category:Drama films| ]]\\n[[Category:Lists of films by genre|Drama films]]\"}\n",
      "{'page_id': 4546764, 'title': 'San Diego Stingrays', 'redirect_title': None, 'namespace': 0, 'text': \"{{Infobox basketball club\\n| name            = San Diego Stingrays\\n| color1          = #000000\\n| color2          = #a897fc\\n| color3          = #10b7ae\\n| logo            = San Diego Stingrays logo.jpg\\n| nickname        = \\n| league = [[International Basketball League (1999–2001)|IBL]]\\n| conference      =\\n| division        =\\n| founded         = 1999\\n| folded = 2001\\n| history         = \\n| arena           = [[San Diego Sports Arena ]]\\n| capacity        = \\n| location        = [[San Diego]], [[California]]\\n| colors          = purple, teal, black<br>{{colorbox|#a897fc}} {{colorbox|#10b7ae}} {{colorbox|#000000}}\\n| current         = \\n| sponsor         = \\n| media           = \\n| president       = Ron Gross\\n| vice-presidents = \\n| manager         = \\n| coach           = \\n| captain         =\\n| ownership       = Scott Atkins\\n| championships   = \\n| conf_champs     =\\n| div_champs      =\\n| website         = [https://web.archive.org/web/20001206230600/http://www.iblhoops.com:80/teams/stingrays www.iblhoops.com/tams/stingrays {{small|(archived on December 6, 2000)}}]\\n}}\\nThe '''San Diego Stingrays''' were a charter member of [[International Basketball League (1999-2001)|International Basketball League]] (IBL) and played at the [[San Diego Sports Arena]] and was owned by online sports gaming entrepreneur Scott Atkins. The following season, the team returned to San Diego under the name, [[San Diego Wildfire]], along with new ownership and management.\\n\\nIn June 1999, San Diego hired former [[San Diego State Aztecs men's basketball]] head coach [[David Gaines (basketball)|Smokey Gaines]] to helm the team.<ref>{{cite news|title=IBL Stingrays hire ex-Aztec coach|work=The Albuquerque Tribune|date=June 10, 1999|location=Albuquerque, New Mexico|page=2}}</ref> Former [[National Basketball Association]] (NBA) player [[Jeff Malone]] was hired as Gains' [[assistant coach]] in July 1999.<ref>{{cite news|title=Transactions|work=The New York Times|date=August 3, 1999|location=New York}}</ref> [[Bill Tosheff]] was the director of basketball operations for the Stingrays.<ref>{{cite news|title=Transactions|work=The New York Times|date=July 8, 1999|location=New York}}</ref> Rapper [[Master P]], who had previously played in the NBA pre-season, signed with the Stingrays in November 1999.<ref>{{cite news|last1=Williams|first1=Michelle|title=Rapper Master P Signs With IBL Team|url=https://www.apnews.com/d540947694b24fc9ba88271affe5f640|accessdate=May 21, 2018|work=Associated Press|date=November 12, 1999|location=San Diego, California}}</ref> \\n\\nThe Stingrays first home game in 1999 was attended by 9,786 people—an IBL best.<ref>{{cite news|last1=Moore|first1=Brad|title=The new game in town debuts with Slam home opener|work=The Albuquerque Tribune|date=November 30, 1999|location=Albuquerque, New Mexico|page=B1}}</ref> The San Diego Stingrays had a dance team as well that participated in several community events. They were led by director Demilo Young and Sheila Christensen.\\n\\n==See also==\\n*[[San Diego Siege]]\\n*[[Oceanside Surf|San Diego Surf]]\\n*[[San Diego Wildcards]]\\n\\n==References==\\n{{reflist}}\\n\\n==External links==\\n*[http://funwhileitlasted.net/2017/11/19/1999-2000-san-diego-stingrays/ 1999-2000 San Diego Stingrays] via funwhileitlasted.net\\n\\n[[Category:Basketball teams in San Diego]]\\n[[Category:Basketball teams in California]]\\n[[Category:International Basketball League (1999–2001) teams]]\\n\\n{{California-basketball-team-stub}}\"}\n",
      "{'page_id': 53547121, 'title': 'Flow sampling', 'redirect_title': None, 'namespace': 0, 'text': 'In statistics, in \\'\\'\\'flow sampling\\'\\'\\', as opposed to [[stock sampling]], observations are collected as they enter the particular state of interest during a particular interval.<ref name=\"auto\">Cameron A. C. and P. K. Trivedi (2005): Microeconometrics: Methods and Applications. Cambridge University Press, New York.</ref>  When dealing with duration data (such as employment spells or [[Mortality rate|mortality]] outcomes), the data [[Sampling (statistics)|sampling]] method has a direct impact on subsequent analyses and [[Statistical inference|inference]]. An example in demography would be sampling the number of people who die within a given time frame (e.g. a specific calendar year); a popular example in economics would be the number of people leaving unemployment within a given time frame (e.g. a specific quarter).<ref name=\"auto1\">Salant, S. (1977): Search Theory and Duration Data: A Theory of Sorts. The Quarterly Journal of Economics, 91(1), pp. 39–57.</ref> Researchers imposing similar assumptions but using different sampling methods, can reach fundamentally different conclusions if the [[joint distribution]] across the flow and stock samples differ.<ref>Chesher, A. and T. Lancaster (1981): Stock and Flow Sampling. Economics Letters 8(1), pp. 63–65.</ref>\\n\\nTypically, flow samples suffer from right [[Censoring (statistics)|censoring]]. After a certain amount of time, as the sampling interval ends, the individuals in the sample are not followed any longer, outcomes are recorded and the data is analyzed. In the unemployment example outlined above, we observe the exact duration for individuals leaving unemployment within the time frame. For people that haven\\'t left unemployment yet, we only observe the lower bound of the unemployment spell.<ref>Wooldridge, J. (2002): Econometric Analysis of Cross Section and Panel Data, MIT Press, Cambridge, Mass.</ref>  The difference between stock and flow sampling can also help explain why certain statistics that measure similar duration measures can differ in important ways. Consider, for instance, the Average Interrupted Duration (AID), the average period for which people that are currently unemployed have been unemployed, and ACD, the average duration of the complete unemployment spell for employed people. Salant shows that heterogeneity in hazard rates between the stock and the flow distribution provides a key to understanding why these two statistics differ. For instance, if the probability of getting a job offer goes down with time unemployed, E[\\'\\'T\\'\\']&nbsp;<&nbsp;E[\\'\\'S\\'\\'], where \\'\\'S\\'\\' and \\'\\'T\\'\\' stand for observed and actual duration respectively.<ref name=\"auto1\"/>\\n\\n[[Renewal theory]] is the appropriate tool for handling these issues,<ref name=\"auto\"/>  and a wide range of estimators have been proposed. These estimators range from fully parametric models such as the Mixed Proportional Hazard model,<ref>Lancaster, T. (1979): Econometric Methods for the Duration of Unemployment. Econometrica 47(4), pp. 939–956.</ref> to [[nonparametric]] and semiparametric methods.<ref>Hausman, J. A. and T. Woutersen (2014), Estimating a semi-parametric duration model without specifying heterogeneity. Journal of Econometrics 178(1), pp. 114–131.</ref>\\n\\n== References ==\\n{{reflist}}\\n\\n[[Category:Sampling (statistics)]]'}\n"
     ]
    }
   ],
   "source": [
    "# fetch specific page ids\n",
    "print (\"Total number of page ids in the snapshot: \", len(parser.id_to_offset))\n",
    "\n",
    "sampled_ids = random.sample(list(parser.id_to_offset.keys()), 10)\n",
    "sampled_ids = [53547121, 3925581, 4546764]\n",
    "\n",
    "for page in parser.page_stream(sampled_ids, include_text=True):\n",
    "    print (page)"
   ]
  },
  {
   "cell_type": "code",
   "execution_count": null,
   "metadata": {},
   "outputs": [],
   "source": []
  },
  {
   "cell_type": "code",
   "execution_count": null,
   "metadata": {},
   "outputs": [],
   "source": []
  },
  {
   "cell_type": "code",
   "execution_count": null,
   "metadata": {},
   "outputs": [],
   "source": []
  },
  {
   "cell_type": "code",
   "execution_count": null,
   "metadata": {},
   "outputs": [],
   "source": []
  },
  {
   "cell_type": "code",
   "execution_count": null,
   "metadata": {},
   "outputs": [],
   "source": []
  },
  {
   "cell_type": "code",
   "execution_count": null,
   "metadata": {},
   "outputs": [],
   "source": []
  },
  {
   "cell_type": "code",
   "execution_count": null,
   "metadata": {},
   "outputs": [],
   "source": []
  },
  {
   "cell_type": "code",
   "execution_count": null,
   "metadata": {},
   "outputs": [],
   "source": []
  },
  {
   "cell_type": "code",
   "execution_count": null,
   "metadata": {},
   "outputs": [],
   "source": []
  },
  {
   "cell_type": "code",
   "execution_count": null,
   "metadata": {},
   "outputs": [],
   "source": []
  },
  {
   "cell_type": "code",
   "execution_count": null,
   "metadata": {},
   "outputs": [],
   "source": []
  },
  {
   "cell_type": "code",
   "execution_count": null,
   "metadata": {},
   "outputs": [],
   "source": []
  }
 ],
 "metadata": {
  "kernelspec": {
   "display_name": "py39",
   "language": "python",
   "name": "python3"
  },
  "language_info": {
   "codemirror_mode": {
    "name": "ipython",
    "version": 3
   },
   "file_extension": ".py",
   "mimetype": "text/x-python",
   "name": "python",
   "nbconvert_exporter": "python",
   "pygments_lexer": "ipython3",
   "version": "3.9.15"
  }
 },
 "nbformat": 4,
 "nbformat_minor": 2
}
