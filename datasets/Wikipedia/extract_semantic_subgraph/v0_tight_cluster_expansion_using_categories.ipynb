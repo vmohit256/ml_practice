{
 "cells": [
  {
   "cell_type": "markdown",
   "metadata": {},
   "source": [
    "This notebook contains data prep and analysis for the wikipedia page graph.\n",
    "\n",
    "Page graph is a directed graph where each node represents a page and each edge represents a hyperlink between two pages."
   ]
  },
  {
   "cell_type": "code",
   "execution_count": 50,
   "metadata": {},
   "outputs": [],
   "source": [
    "import pandas as pd\n",
    "import time, json, os, random, traceback, pyperclip, importlib, queue\n",
    "import matplotlib.pyplot as plt\n",
    "import seaborn as sns\n",
    "import src.wiki_analysis_utils as wiki_analysis_utils\n",
    "\n",
    "_ = importlib.reload(wiki_analysis_utils)"
   ]
  },
  {
   "cell_type": "code",
   "execution_count": 4,
   "metadata": {},
   "outputs": [],
   "source": [
    "data_root_dir = r'C:\\Users\\mohitvyas\\MyDesktop\\WikipediaDataset\\data\\\\'"
   ]
  },
  {
   "cell_type": "markdown",
   "metadata": {},
   "source": [
    "Prepare a small subgraph of articles within a particular topic for experimentation\n",
    "\n",
    "0. Identify a seed page (e.g. https://en.wikipedia.org/wiki/Coriander)\n",
    "1. Start with all categories tagged on it\n",
    "2. ~~Do a BFS on undirected version of category graph starting from the above categories to obtain the category set of interest.~~ (This approach results in ~80% of all categories which is unhelpful. Intuition is to obtain small subgraph that is very similar to the seed page. Something like \"set of all wiki articles about plant species like coriander\")\n",
    "    - ~~Alternative approach-1: do BFS on parent directed graph to obtain all ancenstors. Then do BFS on child directed graph to obtain all descendants of these ancestors.~~ (This also doesn't work)\n",
    "    - Alternative approach-2: same as approach 1, except, these constraints:\n",
    "        - don't include back edges (to avoid cycles)\n",
    "        - do a BFS from seed categories and keep only ancestors with <= k hops away from seed categories\n",
    "        - only include anscestors with <= N descendant categories \n",
    "3. Get all articles that has at least 1 category from the category set of interest.\n",
    "4. Keep only edges that are between articles in the above set to obtain the final dataset."
   ]
  },
  {
   "cell_type": "code",
   "execution_count": 5,
   "metadata": {},
   "outputs": [],
   "source": [
    "target_article_name = 'Coriander'\n",
    "target_dir = data_root_dir + 'PageSubGraphs\\\\' + \\\n",
    "    wiki_analysis_utils.normalized_page_name(target_article_name).replace(' ', '_') + '\\\\'\n",
    "os.makedirs(target_dir, exist_ok=True)"
   ]
  },
  {
   "cell_type": "code",
   "execution_count": 14,
   "metadata": {},
   "outputs": [],
   "source": [
    "category_stats = pd.read_csv(data_root_dir + 'category_id_to_stats.tsv', sep='\\t')"
   ]
  },
  {
   "cell_type": "code",
   "execution_count": 6,
   "metadata": {},
   "outputs": [],
   "source": [
    "page_name_to_page_id, page_id_to_page_name, error_counts = \\\n",
    "    wiki_analysis_utils.load_page_name_to_id_map(data_root_dir, silent=True)"
   ]
  },
  {
   "cell_type": "code",
   "execution_count": 7,
   "metadata": {},
   "outputs": [],
   "source": [
    "# load category name to id mappings from the category pages\n",
    "categories, failure_counts = wiki_analysis_utils\\\n",
    "    .load_category_name_to_id_map(data_root_dir, silent=True)"
   ]
  },
  {
   "cell_type": "code",
   "execution_count": 8,
   "metadata": {},
   "outputs": [],
   "source": [
    "target_page_ids = set([page_name_to_page_id[wiki_analysis_utils.normalized_page_name(target_article_name)]])\n",
    "seed_categories = []\n",
    "silent = True\n",
    "start_time = time.time()\n",
    "for partition in range(10):\n",
    "    with open(data_root_dir + f'category_pages/part-{partition}.txt', 'r') as f:\n",
    "        for line in f:\n",
    "            if line=='': continue\n",
    "            data = json.loads(line)\n",
    "            if 'category_id' in data:\n",
    "                for _, page_id in data['articles']:\n",
    "                    if page_id in target_page_ids:\n",
    "                        seed_categories.append(data['category_id'])\n",
    "                        break\n",
    "    if not silent:\n",
    "        print(f\"Processed till part {partition} in {(time.time() - start_time) / 60} minutes\")"
   ]
  },
  {
   "cell_type": "code",
   "execution_count": 9,
   "metadata": {},
   "outputs": [
    {
     "name": "stdout",
     "output_type": "stream",
     "text": [
      "Found 8 seed categories\n",
      "[\n",
      "    \"plants described in 1753\",\n",
      "    \"spices\",\n",
      "    \"indian spices\",\n",
      "    \"edible apiaceae\",\n",
      "    \"herbs\",\n",
      "    \"medicinal plants\",\n",
      "    \"plants used in native american cuisine\",\n",
      "    \"apioideae\"\n",
      "]\n"
     ]
    }
   ],
   "source": [
    "seed_category_names = [categories['id_to_name'][cat_id] for cat_id in seed_categories]\n",
    "print (f\"Found {len(seed_categories)} seed categories\")\n",
    "print (json.dumps(seed_category_names, indent=4))"
   ]
  },
  {
   "cell_type": "code",
   "execution_count": 10,
   "metadata": {},
   "outputs": [
    {
     "name": "stdout",
     "output_type": "stream",
     "text": [
      "Loaded 500000 edges in 0.5993496974309286 minutes\n",
      "Loaded 1000000 edges in 1.16529008547465 minutes\n",
      "Loaded 1500000 edges in 1.7171114603678386 minutes\n",
      "Loaded 2000000 edges in 2.1856919646263124 minutes\n",
      "Loaded 2500000 edges in 2.6906119704246523 minutes\n",
      "Loaded 3000000 edges in 3.1646892468134564 minutes\n",
      "Loaded 3500000 edges in 3.6239789764086408 minutes\n",
      "Loaded 4000000 edges in 4.230975333849589 minutes\n",
      "Loaded 4500000 edges in 4.71725279490153 minutes\n"
     ]
    }
   ],
   "source": [
    "parent_graph_adj_lists, child_graph_adj_lists = wiki_analysis_utils\\\n",
    "    .load_category_graph(data_root_dir, silent=True)"
   ]
  },
  {
   "cell_type": "code",
   "execution_count": 13,
   "metadata": {},
   "outputs": [],
   "source": [
    "edge_to_type = {}\n",
    "with open(data_root_dir + 'category_edges_dfs_classification.tsv', 'r') as f:\n",
    "    i = 0\n",
    "    for line in f:\n",
    "        i+=1\n",
    "        if i==1: continue\n",
    "        data = line.strip().split('\\t')\n",
    "        edge_to_type[(int(data[0]), int(data[1]))] = data[2]"
   ]
  },
  {
   "cell_type": "code",
   "execution_count": 22,
   "metadata": {},
   "outputs": [],
   "source": [
    "category_to_num_descendants = category_stats\\\n",
    "    .set_index('CategoryId')['NumDescendantCategories'].to_dict()"
   ]
  },
  {
   "cell_type": "code",
   "execution_count": null,
   "metadata": {},
   "outputs": [],
   "source": []
  },
  {
   "cell_type": "code",
   "execution_count": 15,
   "metadata": {},
   "outputs": [
    {
     "name": "stdout",
     "output_type": "stream",
     "text": [
      "Starting with 8 seed categories\n",
      "Found 3409 ancestor categories\n"
     ]
    }
   ],
   "source": [
    "# BFS on the parent graph to find all the ancestors of the seed categories\n",
    "# avoid back edges to work with a cycle-less graph\n",
    "print (f\"Starting with {len(seed_categories)} seed categories\")\n",
    "ancestor_to_distance = {}\n",
    "nodes_to_visit = queue.Queue()\n",
    "for seed_category in seed_categories:\n",
    "    ancestor_to_distance[seed_category] = (0, seed_category)\n",
    "    nodes_to_visit.put(seed_category)\n",
    "while not nodes_to_visit.empty():\n",
    "    node = nodes_to_visit.get()\n",
    "    if node in parent_graph_adj_lists:\n",
    "        for parent in parent_graph_adj_lists[node]:\n",
    "            if parent not in ancestor_to_distance and edge_to_type[(parent, node)] != 'BackEdge':\n",
    "                ancestor_to_distance[parent] = (ancestor_to_distance[node][0] + 1, node)\n",
    "                nodes_to_visit.put(parent)\n",
    "print(f\"Found {len(ancestor_to_distance)} ancestor categories\")"
   ]
  },
  {
   "cell_type": "code",
   "execution_count": 25,
   "metadata": {},
   "outputs": [
    {
     "name": "stdout",
     "output_type": "stream",
     "text": [
      "107 \n",
      "\n",
      "\n",
      "Distance 0:\n",
      "plants described in 1753 (1), spices (16), indian spices (1), edible apiaceae (3), herbs (8), medicinal plants (10), plants used in native american cuisine (5), apioideae (28), \n",
      "\n",
      "---------------------------\n",
      "\n",
      "\n",
      "Distance 1:\n",
      "herbs and spices (28), plant products (5), indian cuisine (74), apiaceae (37), edible plants (335), medicinal herbs and fungi (14), plants and humans (3), native american ethnobotany (1), native american cuisine (7), flora of the united states (16), \n",
      "\n",
      "---------------------------\n",
      "\n",
      "\n",
      "Distance 2:\n",
      "food ingredients (11), natural materials (2258), natural products (3), products by type (6), asian cuisine by country (1), culture of india (22677), food and drink in india (19), cuisine by country (11), south asian cuisine (2), desi cuisine (30), apiales (72), agronomy (31), vegan cuisine (3), plant crops (339), biologically based therapies (60), herbalism (2), drugs by structure (3), pharmacognosy (13), plants (3449), humans and other species (3), ethnobotany (870), native american culture (17), american cuisine by ethnic group (9), indigenous cuisine of the americas (1), north american cuisine (48), flora of northern america (23), flora by country (1), biota of the united states (33), \n",
      "\n",
      "---------------------------\n",
      "\n",
      "\n",
      "Distance 3:\n",
      "foods (28), components (15), food science (29), nature (5), sustainable gardening (2261), materials (5986), sustainable building (14), natural resources (179550), medicinal chemistry (294), chemical compounds (57), products (9), categories by type (1), food and drink in asia by country (1), asian cuisine (15), culture of asia by country (22), culture by country (269), culture of south asia (1), himalayan culture (45818), india (4662), health in india (30), food and drink by country (3), cuisine (108), asian cuisine by region (7), desi culture (65), cuisine by region (2), asterids (1186), agricultural science (4), applied sciences (26), plant agriculture (113), vegetarian cuisine (3), veganism (15), domesticated plants (520), crops (12), alternative medical treatments (310), folklore (223890), plants in culture (2), naturopathy (30), botany (276), natural environment based therapies (43), alternative medical systems (1), history of botany (2), chemical compounds by physiological function (1), drugs (105), pharmaceutical sciences (1), pharmacology (292), kingdoms (biology) (4542), organisms (5), archaeplastida (34), cultural anthropology (100), species (23), ethnobiology (6592), branches of botany (1), folklore studies (1), traditional medicine (237), indigenous culture in the united states (1), culture of the united states by ethnicity (10), native american topics (60), american cuisine (111), indigenous cuisine (4), indigenous culture of the americas (20), cuisine of the americas (1), food and drink in north america (60), cuisine by continent (35), western cuisine (1), holarctic flora (3), flora by distribution categories that follow the world geographical scheme for recording plant distributions (4), flora of the americas (1), flora by continent (4), neotropical realm flora (1), botany in north america (24), biota of north america (86), nearctic realm flora (1), flora (5), plants by location (12), biota by country (3), botany by country (1), nearctic realm biota (1), environment of the united states (17), biota of north america by country (100), \n",
      "\n",
      "---------------------------\n",
      "\n",
      "\n",
      "Distance 4:\n",
      "food watchlist articles (1), food and drink (196), technology systems (25), structure (84), food industry (23), chemistry (100), euthenics (87), biology (369), main topic classifications (18), sustainability by subject (2), sustainable design (1), agroecology (2263), landscape (12), landscape architecture (2), gardening (81), goods (economics) (5988), building engineering (183144), building technology (1), construction law (1), sustainable architecture (15), sustainable technologies (2), building (1), construction (186927), natural environment (2), resources (179551), subfields of chemistry (87), biochemistry (19), medical research (439), molecules (9), chemical substances (88), artificial materials (118), product (11), categories by parameter (159), food and drink in asia (2), health in asia by country (1), culture of asia (55), countries in asia (13), categories by country (9940), culture by location (3), culture of asia by region (5), south asia (8), himalayas (47130), culture by region (5), south asian countries (1), wikipedia categories named after countries (143), member states of the commonwealth of nations (5247), federal republics (11287), health by country (10), nutrition by country (1), food and drink culture (11), cooking (128), sri lankan diaspora (27), maldivian diaspora (7), culture of indian diaspora (68), culture of bangladeshi diaspora (1), culture of pakistani diaspora (1), food and drink by region (1), superasterids (1305), agriculture (169403), applied disciplines (1), branches of science (5053), vegetarianism (6), lifestyles (5), ethical schools and movements (4), applied ethics (2), intentional living (1), sustainable food system (2304), eating behaviors of humans (8), domestication (2), history of agriculture (9), agriculture by type (3), horticulture (7), medical treatments (6), alternative medicine (380), traditional stories (224008), topics in culture (5), biology and culture (1), diets (35), branches of biology (345), therapy (24), social systems (13), history of biology by subdiscipline (10), chemical compounds by type (13), physiology (5), products of chemical industry (2), chemicals in medicine (107), health care (60163), health sciences (23), taxa by rank (6657), life (2), physical objects (3), diaphoretickes (42), cultural studies (2), anthropology (251), cultural concepts (103), environmental social science (150), traditional knowledge (7291), subfields by academic discipline (3), ethnology (4), history of pharmacy (1), medical anthropology (1), history of medicine (7), indigenous peoples in the united states (2), indigenous culture of the americas by country (1), ethnic groups in the united states (90), north american culture by ethnic group (1), culture of the united states (398294), culture by ethnicity (2), indigenous peoples of north america (7), food and drink in the united states (412), north american cuisine by country (1), indigenous culture (31), indigenous peoples of the americas (88), culture of the americas (4), food and drink by continent (10), culture of north america (1454), health in north america (238), categories by continent (252), western culture (4), flora by biogeographic realm (1), holarctic realm biota (5), flora by floristic kingdom (1), tracking categories (487), world geographical scheme for recording plant distributions (1), biota of the americas (1), biota by continent (3), botany by continent (2), pantropical flora (4), neotropical realm biota (2), natural history of north america (113), environment of north america (56), organisms by location (1), biology by country (8), environment by country (24), natural history by country (15), nearctic realm (2), biota by biogeographic realm (220), united states (398295), environment of north america by country (188), geography of the united states (122), natural history of north america by country (195), \n",
      "\n",
      "---------------------------\n",
      "\n",
      "\n",
      "Distance 5:\n",
      "wikiproject food and drink articles (43), culture (19), nutrition (210), personal life (35862), technology (207), systems engineering (176), entities (2), abstraction (1369), industries (economics) (23585), physical sciences (498), social sciences (4012), academic disciplines (4), life sciences (370), container categories (1), articles (33), environment by subject (1), sustainability (9), sustainable development (194132), environmental design (5), subfields of ecology (2), sustainable agriculture (2288), environmental conservation (193775), geography (33), architecture (204683), skills (8), hobbies (25), outdoor recreation (4), utility (5995), civil engineering (186796), technology by type (94), law by issue (12), sustainable urban planning (3), environmental technology (3), real estate (188242), factors of production (179655), biotechnology (74), health research (3), health care quality (454), medicine (20), atoms (29), matter (5), concepts in chemistry (6), molecular physics (1), artificial objects (2), manufacturing (209), market (economics) (3), production and manufacturing (17), wikipedia categories (12017), health in asia (2), eastern culture (57), asia (455), culture by continent (34), countries by continent (28), geography of asia (346), countries (9981), categories by location (887), regions of asia (45), global southeast (2), mountain ranges of india (1), mountain ranges of pakistan (1), mountain ranges of bhutan (47131), mountain ranges of asia (4), east asia (139), wikipedia categories named after mountain ranges (1), mountain ranges of tibet (1), categories by region (37), countries in asia by region (4), wikipedia categories named after populated places (1474), countries by international organization (5), commonwealth of nations (5270), republics (25564), federal countries (5), health by location (1), public health by country (1), cultures (2), home economics (373), home (3), food and drink preparation (8), south asian diaspora (1), asian diasporas (1), diasporas by country of origin (19679), sri lankan people (207), maldivian people (26), south asian diaspora culture (1), culture by diaspora (2), indian diaspora (84), indian culture by community (709), bangladeshi diaspora (19), culture of bangladesh (286), culture of pakistan (3490), pakistani diaspora (53), health by region (1), society by region (1), core eudicots (2409), primary sector of the economy (169661), human activities (62), primary industries (169623), academic discipline interactions (2), science (5929), lifestyle (2), subcultures (9), deviance (sociology) (9), ethics (17), philosophical schools and traditions (44), applied philosophy (5), human behavior (243665), social movements (49), food and the environment (2), ethical consumerism (8), food politics (2638), eating behaviors (27), history of primary sector industries (1), history of industries (61), clinical medicine (8), new age and science (383), health movements (1), pseudoscience (60), narratology (1642), storytelling (224009), categories by topic (154), science and culture (1), management of obesity (200762), dietetics (1), weight loss (4), health promotion (42), society (29), systems theory (1), social psychology (2862), history of biology (16), chemical engineering (106), chemical industry (2), chemical substances by use (15), pharmacy (129), assistance (60167), health (19), taxa (6683), objects (1), bikonts (43), cultural education (5), humanities (159), humans (204859), social concepts (2836), environment and society (1), cultural heritage (20), traditions (4), indigenous peoples (537), sociology of knowledge (1), postcolonialism (84605), social anthropology (1), ethnicity (9), history of chemistry (3), medicine in society (4), medical humanities (3), history of science by discipline (140), indigenous culture by country (1), countries in the americas (2), demographics of the united states (250), society of the united states (1831), ethnic groups in north america by country (134), ethnic groups by country (15), race in the united states (6), ethnic groups in north america (71), society by ethnicity (4), categories by ethnicity (6), health in the united states (50), food and drink in north america by country (9), folk culture by ethnicity (2), indigenous peoples by region (405), ethnic groups in the americas (4), americas (21), society of the americas (3), health by continent (4), north america (62258), continents (263), holarctic (1), phytogeography (4), floristic kingdoms (1), biogeography (13), geocodes (166523), environment of the americas (1), biology by continent (1), natural history by continent (15), environment by continent (26), tropical flora (132), neotropical realm (1), science and technology in north america (171), natural history of the americas (1), science and technology by country (71), environment by location (10), nature by country (26), environmental history (2), history by country (20), natural history (16), biogeographic realms (1888), states and territories established in 1776 (1), former british colonies and protectorates in the americas (403272), countries in north america (19026), geography by country (68), geography of north america by country (856), science and technology in north america by country (300), \n",
      "\n",
      "---------------------------\n",
      "\n",
      "\n",
      "Distance 6:\n",
      "wikiproject food and drink (28), articles by wikiproject (1416), categories requiring diffusion (1), determinants of health (18), self-care (220), self (35876), systems thinking (177), engineering disciplines (37), concepts (7), thought (1451), industry (economics) (23621), organization (1), natural sciences (1013), wikipedia categories that should not contain articles (12011), contents (12516), wikipedia namespaces (1948), environmental movements (10), economy and the environment (1), economic development (194180), design (11), ecology (4), sustainable business (2), agriculture and the environment (1), agricultural revolutions (1), nature conservation (194131), environmental protection (1), earth sciences (144), world (2), visual arts genres (204703), procedural knowledge (14), learning (69142), recreation (31), outdoors (1), choice modelling (5996), categories by issue (4), policy (25261), law (113), politics by issue (11), urban planning (6055), housing (188246), management cybernetics (179656), public health (898), research by field (64), quality (4), health care management (58), atomic physics (1), universe (220116), concepts by field (1), atomic, molecular, and optical physics (21), chemical physics (1), engineering (50), secondary sector of the economy (305), microeconomics (9), trade (23250), wikipedia categorization (12369), afro-eurasia (2), wikipedia categories named after continents (1), southern hemisphere (456), northern hemisphere (1), eurasia (1), geography by continent (40), nation (9), territorial entities by type (458), geographic taxonomies (9982), places (966), regions by continent (16), global regions (270), mountain ranges by country (2), landforms of india (12), mountain ranges of asia by country (1), landforms of pakistan (5), tourist attractions in pakistan (9), mountains of pakistan (4), landforms of bhutan (47139), landforms of asia (11), mountain ranges by continent (2), wikipedia categories named after regions (1320), mountain ranges (2), wikipedia categories named after mountains (3), mountain ranges of china by province or municipality (1), landforms of tibet (5), regions (362), eponymous categories (2), populated places (2113), lists of countries (3), international organizations (5520), categories by organization (22), international economic organizations (22), intergovernmental organizations (5326), wikipedia categories named after political organizations (2), wikipedia categories named after international organizations (4), international political organizations (29), countries by form of government (82), republicanism by country (25580), republic (1), federations (10), health policy by country (1), consumer (1), domestic life (1), education by subject (3), life skills (35842), family economics (374), living arrangements (13), human habitats (188424), food technology (11), south asian people (2), asian people (12), diasporas by continent of origin (346987), people by country (3), diasporas (385969), country of origin (23298), society of sri lanka (425), asian people by nationality (20), people by island (1), people by nationality (2398), sri lanka (4726), maldives (250), society of the maldives (14), indian people (577), indian society by community (1), bangladeshi people (260), bangladesh (1964), pakistan (1608), pakistani people (124), society by location (1), eudicots (2515), inquiry (35800), observation (37614), sociology of culture (8), personal development (234937), minorities (2), social groups (101), consensus reality (236375), social agreement (1), criminology (99627), social stereotypes (11), subfields of sociology (55), conformity (234940), branches of philosophy (70), schools of thought (48), philosophy (89), philosophy by topic (9), primate behavior (243668), activism by issue (100791), social change (11), movements (78), culture and the environment (1), consumer behaviour (14), issues in ethics (4), consumerism (3), malnutrition (2641), health and politics (1), behavioral ecology (3), biological interactions (4), industrial history (63), economic history (4), history of technology (1), history by topic (219), new age (573), religion and science (13), health activism (3), healing (16), ethically disputed research practices (62), fringe science (1), pseudo-scholarship (1), deception (6), science fiction culture (2), film (18472), literature by medium (224010), science in society (2), bariatrics (200769), human body weight (200861), health policy (5), health education (78), sociological theories (6), systems (71), cross-cultural psychology (2863), branches of psychology (2383), interdisciplinary subfields of sociology (46), process engineering (121), heavy industry (3), moral psychology (60170), taxonomy (biology) (6734), biological descriptions (2), neokaryotes (1272), eukaryotes by classification (1274), humanities education (6), liberal arts education (160), hominina (204860), sociology (57), cultural tourism (21), glam (culture and information) (41), cultural history (165), archaeology (22), tradition (31), folk culture (17), ethnic groups (1288), knowledge (35), post-structuralism (11), human sciences (1), africana philosophy (84610), postmodern theory (12), critical theory (4), colonialism (130), social theories (5), anthropological categories of peoples (91114), medical education (14), scientific disciplines (803), history of science (7), geography of the americas (1), demographics of north america by country (1446), demographics by country (6), north american society by country (3085), society by country (14), ethnic groups by continent and country (4), ethnic groups by location (101), race and society (2), ethnic groups in latin america (2), ethnic groups by continent (77), north american society (8246), health in north america by country (79), culture of north america by country (509), ethnic groups by region (7), people of the americas (1), western hemisphere (22), supercontinents (3), society by continent (19), regions of the americas (2), american studies (119996), landforms (481886), places by type (69), landscape ecology (1), physical geography (3), physical oceanography (59), identifiers (166601), encodings (51962), science and technology by continent (8), tropics (447), plants by habitat (141), economy of north america (2508), science and technology by location (2), economies by country (147), environmental humanities (3), history by location (5), history of earth science (4), geographic classifications (9989), environments (5), habitat (190477), former british colonies (403275), former british protectorates (403273), geography of north america (16012), geography by location (2), economies of north america by country (1588), \n",
      "\n",
      "---------------------------\n",
      "\n",
      "\n"
     ]
    }
   ],
   "source": [
    "# visualize what are the ancestors sorted by distance\n",
    "ancestor_to_distance_sorted = sorted(ancestor_to_distance.items(), key=lambda x: x[1][0])\n",
    "print (max([x[1][0] for x in ancestor_to_distance_sorted]), \"\\n\\n\")\n",
    "for distance in range(7): # range(max([x[0] for x in ancestor_to_distance_sorted])):\n",
    "    print(f\"Distance {distance}:\")\n",
    "    for ancestor, (d, _) in ancestor_to_distance_sorted:\n",
    "        if d==distance:\n",
    "            print(f\"{categories['id_to_name'][ancestor]} ({category_to_num_descendants[ancestor]}), \", end='')\n",
    "    print(\"\\n\\n---------------------------\\n\\n\")"
   ]
  },
  {
   "cell_type": "code",
   "execution_count": 24,
   "metadata": {},
   "outputs": [],
   "source": [
    "\"\"\"\n",
    "Observations:\n",
    "- a lot of anscestors are reachable and they become very generic and irrelevant very rapidly\n",
    "- anscestors that are big categorizes are not very related to the initial seed categories\n",
    "- anscestors that are not too big but are far apart are also likely to be irrelevant\n",
    "\n",
    "one approach would be to apply very aggressive thresholds on both properties: category size and distance from seed categories\n",
    "but that may reduce recall significantly\n",
    "\n",
    "Alternate approach:\n",
    "slowly expand cluster. Start with seed articles and fetch \n",
    "similar articles. Expand the cluster slowly and define the distance of a new article from\n",
    "cluster as the average or Nth percentile distance from the all articles in it to ensure that the \n",
    "cluster is compact. This will be very slow.\n",
    "\"\"\"\n",
    "_=1"
   ]
  },
  {
   "cell_type": "code",
   "execution_count": 40,
   "metadata": {},
   "outputs": [],
   "source": [
    "# rank order candidate categories based on 2 features:\n",
    "# 1. distance from seed categories\n",
    "# 2. size of the category\n",
    "# pick weights manually\n",
    "\n",
    "candidate_categories = []\n",
    "for ancestor, (d, _) in ancestor_to_distance_sorted:\n",
    "    candidate_categories.append((ancestor, categories['id_to_name'][ancestor], d, category_to_num_descendants[ancestor]))\n",
    "candidate_categories = pd.DataFrame(candidate_categories, columns=['CategoryId', 'CategoryName', 'Distance', 'Size'])"
   ]
  },
  {
   "cell_type": "code",
   "execution_count": 43,
   "metadata": {},
   "outputs": [
    {
     "data": {
      "text/html": [
       "<div>\n",
       "<style scoped>\n",
       "    .dataframe tbody tr th:only-of-type {\n",
       "        vertical-align: middle;\n",
       "    }\n",
       "\n",
       "    .dataframe tbody tr th {\n",
       "        vertical-align: top;\n",
       "    }\n",
       "\n",
       "    .dataframe thead th {\n",
       "        text-align: right;\n",
       "    }\n",
       "</style>\n",
       "<table border=\"1\" class=\"dataframe\">\n",
       "  <thead>\n",
       "    <tr style=\"text-align: right;\">\n",
       "      <th></th>\n",
       "      <th>CategoryId</th>\n",
       "      <th>CategoryName</th>\n",
       "      <th>Distance</th>\n",
       "      <th>Size</th>\n",
       "      <th>Score</th>\n",
       "    </tr>\n",
       "  </thead>\n",
       "  <tbody>\n",
       "    <tr>\n",
       "      <th>0</th>\n",
       "      <td>22012331</td>\n",
       "      <td>plants described in 1753</td>\n",
       "      <td>0</td>\n",
       "      <td>1</td>\n",
       "      <td>-0.0001</td>\n",
       "    </tr>\n",
       "    <tr>\n",
       "      <th>2</th>\n",
       "      <td>44992786</td>\n",
       "      <td>indian spices</td>\n",
       "      <td>0</td>\n",
       "      <td>1</td>\n",
       "      <td>-0.0001</td>\n",
       "    </tr>\n",
       "    <tr>\n",
       "      <th>3</th>\n",
       "      <td>19950859</td>\n",
       "      <td>edible apiaceae</td>\n",
       "      <td>0</td>\n",
       "      <td>3</td>\n",
       "      <td>-0.0003</td>\n",
       "    </tr>\n",
       "    <tr>\n",
       "      <th>6</th>\n",
       "      <td>45068645</td>\n",
       "      <td>plants used in native american cuisine</td>\n",
       "      <td>0</td>\n",
       "      <td>5</td>\n",
       "      <td>-0.0005</td>\n",
       "    </tr>\n",
       "    <tr>\n",
       "      <th>4</th>\n",
       "      <td>743395</td>\n",
       "      <td>herbs</td>\n",
       "      <td>0</td>\n",
       "      <td>8</td>\n",
       "      <td>-0.0008</td>\n",
       "    </tr>\n",
       "    <tr>\n",
       "      <th>...</th>\n",
       "      <td>...</td>\n",
       "      <td>...</td>\n",
       "      <td>...</td>\n",
       "      <td>...</td>\n",
       "      <td>...</td>\n",
       "    </tr>\n",
       "    <tr>\n",
       "      <th>139</th>\n",
       "      <td>740309</td>\n",
       "      <td>gardening</td>\n",
       "      <td>4</td>\n",
       "      <td>81</td>\n",
       "      <td>-0.0481</td>\n",
       "    </tr>\n",
       "    <tr>\n",
       "      <th>128</th>\n",
       "      <td>5183917</td>\n",
       "      <td>structure</td>\n",
       "      <td>4</td>\n",
       "      <td>84</td>\n",
       "      <td>-0.0484</td>\n",
       "    </tr>\n",
       "    <tr>\n",
       "      <th>150</th>\n",
       "      <td>74709352</td>\n",
       "      <td>subfields of chemistry</td>\n",
       "      <td>4</td>\n",
       "      <td>87</td>\n",
       "      <td>-0.0487</td>\n",
       "    </tr>\n",
       "    <tr>\n",
       "      <th>131</th>\n",
       "      <td>40455234</td>\n",
       "      <td>euthenics</td>\n",
       "      <td>4</td>\n",
       "      <td>87</td>\n",
       "      <td>-0.0487</td>\n",
       "    </tr>\n",
       "    <tr>\n",
       "      <th>154</th>\n",
       "      <td>1308633</td>\n",
       "      <td>chemical substances</td>\n",
       "      <td>4</td>\n",
       "      <td>88</td>\n",
       "      <td>-0.0488</td>\n",
       "    </tr>\n",
       "  </tbody>\n",
       "</table>\n",
       "<p>200 rows × 5 columns</p>\n",
       "</div>"
      ],
      "text/plain": [
       "     CategoryId                            CategoryName  Distance  Size  \\\n",
       "0      22012331                plants described in 1753         0     1   \n",
       "2      44992786                           indian spices         0     1   \n",
       "3      19950859                         edible apiaceae         0     3   \n",
       "6      45068645  plants used in native american cuisine         0     5   \n",
       "4        743395                                   herbs         0     8   \n",
       "..          ...                                     ...       ...   ...   \n",
       "139      740309                               gardening         4    81   \n",
       "128     5183917                               structure         4    84   \n",
       "150    74709352                  subfields of chemistry         4    87   \n",
       "131    40455234                               euthenics         4    87   \n",
       "154     1308633                     chemical substances         4    88   \n",
       "\n",
       "      Score  \n",
       "0   -0.0001  \n",
       "2   -0.0001  \n",
       "3   -0.0003  \n",
       "6   -0.0005  \n",
       "4   -0.0008  \n",
       "..      ...  \n",
       "139 -0.0481  \n",
       "128 -0.0484  \n",
       "150 -0.0487  \n",
       "131 -0.0487  \n",
       "154 -0.0488  \n",
       "\n",
       "[200 rows x 5 columns]"
      ]
     },
     "execution_count": 43,
     "metadata": {},
     "output_type": "execute_result"
    }
   ],
   "source": [
    "candidate_categories['Score'] = -1 * candidate_categories['Distance'] / 100 - 0.1 * candidate_categories['Size'] / 1000\n",
    "candidate_categories.sort_values('Score', ascending=False).head(200)"
   ]
  },
  {
   "cell_type": "code",
   "execution_count": null,
   "metadata": {},
   "outputs": [],
   "source": []
  },
  {
   "cell_type": "code",
   "execution_count": 48,
   "metadata": {},
   "outputs": [
    {
     "name": "stdout",
     "output_type": "stream",
     "text": [
      "200\n"
     ]
    }
   ],
   "source": [
    "expanded_seed_category_set = set(candidate_categories.sort_values('Score', ascending=False).head(200)['CategoryId'].values)\n",
    "print (len(expanded_seed_category_set))"
   ]
  },
  {
   "cell_type": "code",
   "execution_count": 49,
   "metadata": {},
   "outputs": [
    {
     "name": "stdout",
     "output_type": "stream",
     "text": [
      "Expanded to 1649504 categories\n"
     ]
    }
   ],
   "source": [
    "# get full category set by getting all descendants of the expanded seed category set\n",
    "expanded_category_set = set()\n",
    "nodes_to_visit = queue.Queue()\n",
    "for seed_category in expanded_seed_category_set:\n",
    "    expanded_category_set.add(seed_category)\n",
    "    nodes_to_visit.put(seed_category)\n",
    "while not nodes_to_visit.empty():\n",
    "    node = nodes_to_visit.get()\n",
    "    if node in child_graph_adj_lists:\n",
    "        for child in child_graph_adj_lists[node]:\n",
    "            # remove back edges\n",
    "            if child not in expanded_category_set and edge_to_type[(node, child)] != 'BackEdge':\n",
    "                expanded_category_set.add(child)\n",
    "                nodes_to_visit.put(child)\n",
    "print(f\"Expanded to {len(expanded_category_set)} categories\")"
   ]
  },
  {
   "cell_type": "code",
   "execution_count": null,
   "metadata": {},
   "outputs": [],
   "source": []
  },
  {
   "cell_type": "code",
   "execution_count": null,
   "metadata": {},
   "outputs": [],
   "source": []
  },
  {
   "cell_type": "code",
   "execution_count": null,
   "metadata": {},
   "outputs": [],
   "source": []
  },
  {
   "cell_type": "code",
   "execution_count": null,
   "metadata": {},
   "outputs": [],
   "source": []
  },
  {
   "cell_type": "code",
   "execution_count": null,
   "metadata": {},
   "outputs": [],
   "source": []
  }
 ],
 "metadata": {
  "kernelspec": {
   "display_name": "py39",
   "language": "python",
   "name": "python3"
  },
  "language_info": {
   "codemirror_mode": {
    "name": "ipython",
    "version": 3
   },
   "file_extension": ".py",
   "mimetype": "text/x-python",
   "name": "python",
   "nbconvert_exporter": "python",
   "pygments_lexer": "ipython3",
   "version": "3.9.15"
  }
 },
 "nbformat": 4,
 "nbformat_minor": 2
}
