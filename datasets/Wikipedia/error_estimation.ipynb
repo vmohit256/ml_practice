{
 "cells": [
  {
   "cell_type": "markdown",
   "metadata": {},
   "source": [
    "There may be errors in parsing wiki pages from snapshot and this notebook help quantify the errors\n",
    "by comparing the parsed versions from snapshots with the latest html version retrieved from the\n",
    "wikipedia api.\n",
    "\n",
    "Sources of errors:\n",
    "1. Snapshot is old and out of sync with the latest wikipedia page\n",
    "2. Templates are not expanded in the snapshot\n",
    "... and may be more unknown reasons\n",
    "\n",
    "This notebook uses the wikipedia api to retrieve the latest html version of the page and compares\n",
    "quantities of interest like internal links, category labels, etc. between the snapshot and the latest\n",
    "version on a sample of pages to estimate the error rate."
   ]
  },
  {
   "cell_type": "code",
   "execution_count": 1,
   "metadata": {},
   "outputs": [
    {
     "name": "stdout",
     "output_type": "stream",
     "text": [
      "<div class=\"mw-content-ltr mw-parser-output\" lang=\"en\" dir=\"ltr\"><style data-mw-deduplicate=\"TemplateStyles:r1217611005\">.mw-parser-output .side-box{margin:4px 0;box-sizing:border-box;border:1px solid #aaa;font-size:88%;line-height:1.25em;background-color:#f9f9f9;display:flow-root}.mw-parser-output .side-box-abovebelow,.mw-parser-output .side-box-text{padding:0.25em 0.9em}.mw-parser-output .side-box-image{padding:2px 0 2px 0.9em;text-align:center}.mw-parser-output .side-box-imageright{padding:2px 0.9em 2px 0;text-align:center}@media(min-width:500px){.mw-parser-output .side-box-flex{display:flex;align-items:center}.mw-parser-output .side-box-text{flex:1;min-width:0}}@media(min-width:720px){.mw-parser-output .side-box{width:238px}.mw-parser-output .side-box-right{clear:right;float:right;margin-left:1em}.mw-parser-output .side-box-left{margin-right:1em}}</style><div class=\"side-box side-box-right plainlinks sistersitebox\"><style data-mw-deduplicate=\"TemplateStyles:r1126788409\">.mw-parser-output .plainlist ol,.mw-parser-output .plainlist ul{line-height:inherit;list-style:none;margin:0;padding:0}.mw-parser-output .plainlist ol li,.mw-parser-output .plainlist ul li{margin-bottom:0}</style>\n",
      "<div class=\"side-box-flex\">\n",
      "<div class=\"side-box-image\"><span class=\"noviewer\" typeof=\"mw:File\"><span><img alt=\"\" src=\"//upload.wikimedia.org/wikipedia/en/thumb/4/4a/Commons-logo.svg/30px-Commons-logo.svg.png\" decoding=\"async\" width=\"30\" height=\"40\" class=\"mw-file-element\" srcset=\"//upload.wikimedia.org/wikipedia/en/thumb/4/4a/Commons-logo.svg/45px-Commons-logo.svg.png 1.5x, //upload.wikimedia.org/wikipedia/en/thumb/4/4a/Commons-logo.svg/59px-Commons-logo.svg.png 2x\" data-file-width=\"1024\" data-file-height=\"1376\" /></span></span></div>\n",
      "<div class=\"side-box-text plainlist\">Wikimedia Commons has media related to <span style=\"font-weight: bold; font-style: italic;\"><a href=\"https://commons.wikimedia.org/wiki/Category:1945_in_Alabama\" class=\"extiw\" title=\"commons:Category:1945 in Alabama\">1945 in Alabama</a></span>.</div></div>\n",
      "</div>\n",
      "<style data-mw-deduplicate=\"TemplateStyles:r1214689105\">.mw-parser-output .portalbox{padding:0;margin:0.5em 0;display:table;box-sizing:border-box;max-width:175px;list-style:none}.mw-parser-output .portalborder{border:solid #aaa 1px;padding:0.1em;background:#f9f9f9}.mw-parser-output .portalbox-entry{display:table-row;font-size:85%;line-height:110%;height:1.9em;font-style:italic;font-weight:bold}.mw-parser-output .portalbox-image{display:table-cell;padding:0.2em;vertical-align:middle;text-align:center}.mw-parser-output .portalbox-link{display:table-cell;padding:0.2em 0.2em 0.2em 0.3em;vertical-align:middle}@media(min-width:720px){.mw-parser-output .portalleft{clear:left;float:left;margin:0.5em 1em 0.5em 0}.mw-parser-output .portalright{clear:right;float:right;margin:0.5em 0 0.5em 1em}}html.skin-theme-clientpref-night .mw-parser-output .portalbox{background:transparent}@media(prefers-color-scheme:dark){html.skin-theme-clientpref-os .mw-parser-output .pane{background:transparent}}</style><ul role=\"navigation\" aria-label=\"Portals\" class=\"noprint portalbox portalborder portalright\">\n",
      "<li class=\"portalbox-entry\"><span class=\"portalbox-image\"><span class=\"mw-image-border noviewer\" typeof=\"mw:File\"><span><img alt=\"flag\" src=\"//upload.wikimedia.org/wikipedia/commons/thumb/5/5c/Flag_of_Alabama.svg/32px-Flag_of_Alabama.svg.png\" decoding=\"async\" width=\"32\" height=\"21\" class=\"mw-file-element\" srcset=\"//upload.wikimedia.org/wikipedia/commons/thumb/5/5c/Flag_of_Alabama.svg/48px-Flag_of_Alabama.svg.png 1.5x, //upload.wikimedia.org/wikipedia/commons/thumb/5/5c/Flag_of_Alabama.svg/64px-Flag_of_Alabama.svg.png 2x\" data-file-width=\"600\" data-file-height=\"400\" /></span></span></span><span class=\"portalbox-link\"><a href=\"/wiki/Portal:Alabama\" title=\"Portal:Alabama\">Alabama portal</a></span></li><li class=\"portalbox-entry\"><span class=\"portalbox-image\"><span class=\"mw-image-border noviewer\" typeof=\"mw:File\"><span><img alt=\"flag\" src=\"//upload.wikimedia.org/wikipedia/en/thumb/a/a4/Flag_of_the_United_States.svg/32px-Flag_of_the_United_States.svg.png\" decoding=\"async\" width=\"32\" height=\"17\" class=\"mw-file-element\" srcset=\"//upload.wikimedia.org/wikipedia/en/thumb/a/a4/Flag_of_the_United_States.svg/48px-Flag_of_the_United_States.svg.png 1.5x, //upload.wikimedia.org/wikipedia/en/thumb/a/a4/Flag_of_the_United_States.svg/64px-Flag_of_the_United_States.svg.png 2x\" data-file-width=\"1235\" data-file-height=\"650\" /></span></span></span><span class=\"portalbox-link\"><a href=\"/wiki/Portal:United_States\" title=\"Portal:United States\">United States portal</a></span></li><li class=\"portalbox-entry\"><span class=\"portalbox-image\"><span class=\"noviewer\" typeof=\"mw:File\"><span><img alt=\"\" src=\"//upload.wikimedia.org/wikipedia/commons/thumb/4/48/P_history.svg/31px-P_history.svg.png\" decoding=\"async\" width=\"31\" height=\"28\" class=\"mw-file-element\" srcset=\"//upload.wikimedia.org/wikipedia/commons/thumb/4/48/P_history.svg/47px-P_history.svg.png 1.5x, //upload.wikimedia.org/wikipedia/commons/thumb/4/48/P_history.svg/62px-P_history.svg.png 2x\" data-file-width=\"400\" data-file-height=\"360\" /></span></span></span><span class=\"portalbox-link\"><a href=\"/wiki/Portal:History\" title=\"Portal:History\">History portal</a></span></li></ul>\n",
      "<style data-mw-deduplicate=\"TemplateStyles:r1033289096\">.mw-parser-output .hatnote{font-style:italic}.mw-parser-output div.hatnote{padding-left:1.6em;margin-bottom:0.5em}.mw-parser-output .hatnote i{font-style:normal}.mw-parser-output .hatnote+link+.hatnote{margin-top:-0.5em}</style><div role=\"note\" class=\"hatnote navigation-not-searchable\">This <a href=\"/wiki/Help:Categories\" title=\"Help:Categories\">category</a> is for topics specifically related to the year <b><a href=\"/wiki/1945\" title=\"1945\">1945</a></b> in the U.S. state of <b><a href=\"/wiki/Alabama\" title=\"Alabama\">Alabama</a></b>.</div>\n",
      "<style data-mw-deduplicate=\"TemplateStyles:r1201935656\">.mw-parser-output .categorySeriesNavigation{display:flow-root}.mw-parser-output .categorySeriesNavigation-range{display:table;border-collapse:separate;margin:auto;padding:8px;text-align:center}body.skin-vector-2022 .mw-parser-output .categorySeriesNavigation-range,body.skin-minerva .mw-parser-output .categorySeriesNavigation-range{padding:3px}.mw-parser-output .categorySeriesNavigation-range-transparent{border-width:0;background-color:transparent}.mw-parser-output .categorySeriesNavigation-item-inactive{color:#72777d}</style><div class=\"categorySeriesNavigation\" role=\"navigation\" aria-label=\"Range\">\n",
      "<div class=\"toccolours categorySeriesNavigation-range\">\n",
      "<style data-mw-deduplicate=\"TemplateStyles:r1129693374\">.mw-parser-output .hlist dl,.mw-parser-output .hlist ol,.mw-parser-output .hlist ul{margin:0;padding:0}.mw-parser-output .hlist dd,.mw-parser-output .hlist dt,.mw-parser-output .hlist li{margin:0;display:inline}.mw-parser-output .hlist.inline,.mw-parser-output .hlist.inline dl,.mw-parser-output .hlist.inline ol,.mw-parser-output .hlist.inline ul,.mw-parser-output .hlist dl dl,.mw-parser-output .hlist dl ol,.mw-parser-output .hlist dl ul,.mw-parser-output .hlist ol dl,.mw-parser-output .hlist ol ol,.mw-parser-output .hlist ol ul,.mw-parser-output .hlist ul dl,.mw-parser-output .hlist ul ol,.mw-parser-output .hlist ul ul{display:inline}.mw-parser-output .hlist .mw-empty-li{display:none}.mw-parser-output .hlist dt::after{content:\": \"}.mw-parser-output .hlist dd::after,.mw-parser-output .hlist li::after{content:\" · \";font-weight:bold}.mw-parser-output .hlist dd:last-child::after,.mw-parser-output .hlist dt:last-child::after,.mw-parser-output .hlist li:last-child::after{content:none}.mw-parser-output .hlist dd dd:first-child::before,.mw-parser-output .hlist dd dt:first-child::before,.mw-parser-output .hlist dd li:first-child::before,.mw-parser-output .hlist dt dd:first-child::before,.mw-parser-output .hlist dt dt:first-child::before,.mw-parser-output .hlist dt li:first-child::before,.mw-parser-output .hlist li dd:first-child::before,.mw-parser-output .hlist li dt:first-child::before,.mw-parser-output .hlist li li:first-child::before{content:\" (\";font-weight:normal}.mw-parser-output .hlist dd dd:last-child::after,.mw-parser-output .hlist dd dt:last-child::after,.mw-parser-output .hlist dd li:last-child::after,.mw-parser-output .hlist dt dd:last-child::after,.mw-parser-output .hlist dt dt:last-child::after,.mw-parser-output .hlist dt li:last-child::after,.mw-parser-output .hlist li dd:last-child::after,.mw-parser-output .hlist li dt:last-child::after,.mw-parser-output .hlist li li:last-child::after{content:\")\";font-weight:normal}.mw-parser-output .hlist ol{counter-reset:listitem}.mw-parser-output .hlist ol>li{counter-increment:listitem}.mw-parser-output .hlist ol>li::before{content:\" \"counter(listitem)\"\\a0 \"}.mw-parser-output .hlist dd ol>li:first-child::before,.mw-parser-output .hlist dt ol>li:first-child::before,.mw-parser-output .hlist li ol>li:first-child::before{content:\" (\"counter(listitem)\"\\a0 \"}</style><div class=\"hlist\"><ul><li><a href=\"/wiki/Category:1940_in_Alabama\" title=\"Category:1940 in Alabama\">1940</a></li><li><a href=\"/wiki/Category:1941_in_Alabama\" title=\"Category:1941 in Alabama\">1941</a></li><li><a href=\"/wiki/Category:1942_in_Alabama\" title=\"Category:1942 in Alabama\">1942</a></li><li><a href=\"/wiki/Category:1943_in_Alabama\" title=\"Category:1943 in Alabama\">1943</a></li><li><a href=\"/wiki/Category:1944_in_Alabama\" title=\"Category:1944 in Alabama\">1944</a></li><li><b>1945</b></li><li><a href=\"/wiki/Category:1946_in_Alabama\" title=\"Category:1946 in Alabama\">1946</a></li><li><a href=\"/wiki/Category:1947_in_Alabama\" title=\"Category:1947 in Alabama\">1947</a></li><li><a href=\"/wiki/Category:1948_in_Alabama\" title=\"Category:1948 in Alabama\">1948</a></li><li><a href=\"/wiki/Category:1949_in_Alabama\" title=\"Category:1949 in Alabama\">1949</a></li><li><a href=\"/wiki/Category:1950_in_Alabama\" title=\"Category:1950 in Alabama\">1950</a></li></ul></div>\n",
      "</div>\n",
      "<div class=\"toccolours categorySeriesNavigation-range categorySeriesNavigation-range-transparent\">\n",
      "<link rel=\"mw-deduplicated-inline-style\" href=\"mw-data:TemplateStyles:r1129693374\"><div class=\"hlist\"><ul><li><a href=\"/wiki/Category:1890s_in_Alabama\" title=\"Category:1890s in Alabama\">1890s</a></li><li><a href=\"/wiki/Category:1900s_in_Alabama\" title=\"Category:1900s in Alabama\">1900s</a></li><li><a href=\"/wiki/Category:1910s_in_Alabama\" title=\"Category:1910s in Alabama\">1910s</a></li><li><a href=\"/wiki/Category:1920s_in_Alabama\" title=\"Category:1920s in Alabama\">1920s</a></li><li><a href=\"/wiki/Category:1930s_in_Alabama\" title=\"Category:1930s in Alabama\">1930s</a></li><li><b><a href=\"/wiki/Category:1940s_in_Alabama\" title=\"Category:1940s in Alabama\">1940s</a></b></li><li><a href=\"/wiki/Category:1950s_in_Alabama\" title=\"Category:1950s in Alabama\">1950s</a></li><li><a href=\"/wiki/Category:1960s_in_Alabama\" title=\"Category:1960s in Alabama\">1960s</a></li><li><a href=\"/wiki/Category:1970s_in_Alabama\" title=\"Category:1970s in Alabama\">1970s</a></li><li><a href=\"/wiki/Category:1980s_in_Alabama\" title=\"Category:1980s in Alabama\">1980s</a></li><li><a href=\"/wiki/Category:1990s_in_Alabama\" title=\"Category:1990s in Alabama\">1990s</a></li></ul></div>\n",
      "</div>\n",
      "</div>\n",
      "<!-- \n",
      "NewPP limit report\n",
      "Parsed by mw‐web.codfw.main‐6d9bc5f875‐bljgk\n",
      "Cached time: 20240615110122\n",
      "Cache expiry: 2592000\n",
      "Reduced expiry: false\n",
      "Complications: []\n",
      "CPU time usage: 0.181 seconds\n",
      "Real time usage: 0.325 seconds\n",
      "Preprocessor visited node count: 462/1000000\n",
      "Post‐expand include size: 22802/2097152 bytes\n",
      "Template argument size: 3331/2097152 bytes\n",
      "Highest expansion depth: 17/100\n",
      "Expensive parser function count: 24/500\n",
      "Unstrip recursion depth: 0/20\n",
      "Unstrip post‐expand size: 8043/5000000 bytes\n",
      "Lua time usage: 0.123/10.000 seconds\n",
      "Lua memory usage: 2196500/52428800 bytes\n",
      "Number of Wikibase entities loaded: 0/400\n",
      "-->\n",
      "<!--\n",
      "Transclusion expansion time report (%,ms,calls,template)\n",
      "100.00%  308.266      1 -total\n",
      " 64.05%  197.429      1 Template:Year_in_US_state_category\n",
      " 63.37%  195.344      1 Template:Category_other\n",
      " 62.49%  192.631      1 Template:Year_in_US_state_category/core\n",
      " 37.24%  114.801      1 Template:Category_series_navigation\n",
      " 35.90%  110.673      1 Template:Commons_category\n",
      " 35.30%  108.806      1 Template:Sister_project\n",
      " 34.73%  107.061      1 Template:Side_box\n",
      " 22.53%   69.447      2 Template:If_then_show\n",
      " 12.63%   38.941      1 Template:Portal\n",
      "-->\n",
      "\n",
      "<!-- Saved in parser cache with key enwiki:pcache:idhash:39812076-0!canonical and timestamp 20240615110122 and revision id 1178630775. Rendering was triggered because: page-view\n",
      " -->\n",
      "</div>\n"
     ]
    }
   ],
   "source": [
    "import requests\n",
    "\n",
    "def fetch_expanded_wikipedia_page(page_title):\n",
    "    URL = \"https://en.wikipedia.org/w/api.php\"\n",
    "    PARAMS = {\n",
    "        \"action\": \"parse\",\n",
    "        \"page\": page_title,\n",
    "        \"prop\": \"text\",\n",
    "        \"format\": \"json\"\n",
    "    }\n",
    "\n",
    "    response = requests.get(URL, params=PARAMS)\n",
    "    data = response.json()\n",
    "\n",
    "    # Extracting the HTML content of the page\n",
    "    html_content = data[\"parse\"][\"text\"][\"*\"]\n",
    "    return html_content\n",
    "\n",
    "# Example usage\n",
    "page_title = \"Category:1945 in Alabama\"\n",
    "html_content = fetch_expanded_wikipedia_page(page_title)\n",
    "print(html_content)"
   ]
  },
  {
   "cell_type": "code",
   "execution_count": 4,
   "metadata": {},
   "outputs": [],
   "source": [
    "from bs4 import BeautifulSoup\n",
    "import pyperclip\n",
    "\n",
    "# extract links\n",
    "links = []\n",
    "soup = BeautifulSoup(html_content, \"html.parser\")\n",
    "pyperclip.copy(soup.prettify())"
   ]
  },
  {
   "cell_type": "code",
   "execution_count": null,
   "metadata": {},
   "outputs": [],
   "source": []
  },
  {
   "cell_type": "code",
   "execution_count": null,
   "metadata": {},
   "outputs": [],
   "source": []
  },
  {
   "cell_type": "code",
   "execution_count": null,
   "metadata": {},
   "outputs": [],
   "source": []
  }
 ],
 "metadata": {
  "kernelspec": {
   "display_name": "py39",
   "language": "python",
   "name": "python3"
  },
  "language_info": {
   "codemirror_mode": {
    "name": "ipython",
    "version": 3
   },
   "file_extension": ".py",
   "mimetype": "text/x-python",
   "name": "python",
   "nbconvert_exporter": "python",
   "pygments_lexer": "ipython3",
   "version": "3.9.15"
  }
 },
 "nbformat": 4,
 "nbformat_minor": 2
}
