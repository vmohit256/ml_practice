{
 "cells": [
  {
   "cell_type": "markdown",
   "metadata": {},
   "source": [
    "Replicate simple sentiment classification baseline from this tutorial:\n",
    "\n",
    "https://www.tensorflow.org/tutorials/keras/text_classification\n",
    "\n",
    "using pytorch.\n",
    "\n",
    "References:\n",
    "\n",
    "- https://www.kaggle.com/code/affand20/imdb-with-pytorch"
   ]
  },
  {
   "cell_type": "code",
   "execution_count": 16,
   "metadata": {},
   "outputs": [],
   "source": [
    "import pandas as pd\n",
    "import re, string\n",
    "from collections import Counter\n",
    "from torch import nn\n",
    "import torch\n",
    "import torch.optim as optim\n",
    "from torchinfo import summary\n",
    "from torch.utils.data import DataLoader, Dataset\n",
    "from tqdm.notebook import tqdm\n",
    "import matplotlib.pyplot as plt\n",
    "import seaborn as sns"
   ]
  },
  {
   "cell_type": "code",
   "execution_count": 2,
   "metadata": {},
   "outputs": [
    {
     "name": "stdout",
     "output_type": "stream",
     "text": [
      "50000\n",
      "positive    25000\n",
      "negative    25000\n",
      "Name: sentiment, dtype: int64\n"
     ]
    },
    {
     "data": {
      "text/html": [
       "<div>\n",
       "<style scoped>\n",
       "    .dataframe tbody tr th:only-of-type {\n",
       "        vertical-align: middle;\n",
       "    }\n",
       "\n",
       "    .dataframe tbody tr th {\n",
       "        vertical-align: top;\n",
       "    }\n",
       "\n",
       "    .dataframe thead th {\n",
       "        text-align: right;\n",
       "    }\n",
       "</style>\n",
       "<table border=\"1\" class=\"dataframe\">\n",
       "  <thead>\n",
       "    <tr style=\"text-align: right;\">\n",
       "      <th></th>\n",
       "      <th>review</th>\n",
       "      <th>sentiment</th>\n",
       "    </tr>\n",
       "  </thead>\n",
       "  <tbody>\n",
       "    <tr>\n",
       "      <th>0</th>\n",
       "      <td>One of the other reviewers has mentioned that ...</td>\n",
       "      <td>positive</td>\n",
       "    </tr>\n",
       "    <tr>\n",
       "      <th>1</th>\n",
       "      <td>A wonderful little production. &lt;br /&gt;&lt;br /&gt;The...</td>\n",
       "      <td>positive</td>\n",
       "    </tr>\n",
       "    <tr>\n",
       "      <th>2</th>\n",
       "      <td>I thought this was a wonderful way to spend ti...</td>\n",
       "      <td>positive</td>\n",
       "    </tr>\n",
       "    <tr>\n",
       "      <th>3</th>\n",
       "      <td>Basically there's a family where a little boy ...</td>\n",
       "      <td>negative</td>\n",
       "    </tr>\n",
       "    <tr>\n",
       "      <th>4</th>\n",
       "      <td>Petter Mattei's \"Love in the Time of Money\" is...</td>\n",
       "      <td>positive</td>\n",
       "    </tr>\n",
       "  </tbody>\n",
       "</table>\n",
       "</div>"
      ],
      "text/plain": [
       "                                              review sentiment\n",
       "0  One of the other reviewers has mentioned that ...  positive\n",
       "1  A wonderful little production. <br /><br />The...  positive\n",
       "2  I thought this was a wonderful way to spend ti...  positive\n",
       "3  Basically there's a family where a little boy ...  negative\n",
       "4  Petter Mattei's \"Love in the Time of Money\" is...  positive"
      ]
     },
     "execution_count": 2,
     "metadata": {},
     "output_type": "execute_result"
    }
   ],
   "source": [
    "# read data\n",
    "\"\"\"\n",
    "Source: https://www.kaggle.com/datasets/lakshmi25npathi/imdb-dataset-of-50k-movie-reviews?resource=download\n",
    "https://ai.stanford.edu/~amaas/data/sentiment/\n",
    "\"\"\"\n",
    "data = pd.read_csv('../../local/data/imdb-dataset-of-50k-movie-reviews/IMDB Dataset.csv')\n",
    "print (len(data))\n",
    "print (data['sentiment'].value_counts())\n",
    "data.head()"
   ]
  },
  {
   "cell_type": "code",
   "execution_count": 3,
   "metadata": {},
   "outputs": [],
   "source": [
    "# split into train, dev, test with percentages: 40%, 10%, 50% to match config used in the tensorflow tutorial\n",
    "\n",
    "# shuffle data\n",
    "data = data.sample(frac=1).reset_index(drop=True)\n",
    "\n",
    "data = {\n",
    "    'train': data[:20000].copy(),\n",
    "    'dev': data[20000:25000].copy(),\n",
    "    'test': data[25000:].copy()\n",
    "}"
   ]
  },
  {
   "cell_type": "code",
   "execution_count": 4,
   "metadata": {},
   "outputs": [],
   "source": [
    "def custom_standardization(input_data):\n",
    "    lowercase = input_data.lower().replace('<br />', ' ')\n",
    "    # Using Python's re.sub to replace punctuation with an empty string\n",
    "    return re.sub('[%s]' % re.escape(string.punctuation), '', lowercase)"
   ]
  },
  {
   "cell_type": "code",
   "execution_count": 5,
   "metadata": {},
   "outputs": [],
   "source": [
    "\"\"\"\n",
    "Replicate this code for tensorflow:\n",
    "\n",
    "max_features = 10000\n",
    "sequence_length = 250\n",
    "\n",
    "vectorize_layer = layers.TextVectorization(\n",
    "    standardize=custom_standardization,\n",
    "    max_tokens=max_features,\n",
    "    output_mode='int',\n",
    "    output_sequence_length=sequence_length)\n",
    "\"\"\"\n",
    "\n",
    "vocab_size = 10000\n",
    "sequence_length = 250\n",
    "\n",
    "# Step 1: Preprocess and Tokenize Text\n",
    "tokenized_texts = [custom_standardization(text).split() for text in data['train']['review']]\n",
    "\n",
    "# Step 2: Create a Vocabulary\n",
    "vocab_counter = Counter(token for text in tokenized_texts for token in text)\n",
    "vocab = {word: index + 2 for index, (word, count) in enumerate(vocab_counter.most_common(vocab_size - 2))}\n",
    "vocab['<PAD>'] = 0  # Padding token\n",
    "vocab['<UNK>'] = 1  # Unknown token\n",
    "\n",
    "# Step-3: Vectorize Text in train, val, test data using this vocab\n",
    "def vectorize_text(text):\n",
    "    word_ids = [vocab.get(token, vocab['<UNK>']) for token in custom_standardization(text).split()][:sequence_length]\n",
    "    # pad to fixed length with pad token\n",
    "    word_ids += [vocab['<PAD>']] * (sequence_length - len(word_ids))\n",
    "    return word_ids\n",
    "\n",
    "for key in data:\n",
    "    data[key]['vectorized_review'] = data[key]['review'].apply(vectorize_text)"
   ]
  },
  {
   "cell_type": "code",
   "execution_count": 6,
   "metadata": {},
   "outputs": [
    {
     "data": {
      "text/html": [
       "<div>\n",
       "<style scoped>\n",
       "    .dataframe tbody tr th:only-of-type {\n",
       "        vertical-align: middle;\n",
       "    }\n",
       "\n",
       "    .dataframe tbody tr th {\n",
       "        vertical-align: top;\n",
       "    }\n",
       "\n",
       "    .dataframe thead th {\n",
       "        text-align: right;\n",
       "    }\n",
       "</style>\n",
       "<table border=\"1\" class=\"dataframe\">\n",
       "  <thead>\n",
       "    <tr style=\"text-align: right;\">\n",
       "      <th></th>\n",
       "      <th>review</th>\n",
       "      <th>sentiment</th>\n",
       "      <th>vectorized_review</th>\n",
       "    </tr>\n",
       "  </thead>\n",
       "  <tbody>\n",
       "    <tr>\n",
       "      <th>0</th>\n",
       "      <td>A movie about a mysterious love letter that pu...</td>\n",
       "      <td>negative</td>\n",
       "      <td>[3, 17, 42, 3, 1279, 113, 2694, 12, 1381, 3, 3...</td>\n",
       "    </tr>\n",
       "    <tr>\n",
       "      <th>1</th>\n",
       "      <td>This is a film that had a lot to live down to ...</td>\n",
       "      <td>negative</td>\n",
       "      <td>[11, 7, 3, 19, 12, 63, 3, 160, 6, 427, 185, 6,...</td>\n",
       "    </tr>\n",
       "    <tr>\n",
       "      <th>2</th>\n",
       "      <td>A genuinely odd, surreal jumble of visual idea...</td>\n",
       "      <td>negative</td>\n",
       "      <td>[3, 2005, 1029, 2307, 1, 5, 1108, 988, 61, 231...</td>\n",
       "    </tr>\n",
       "    <tr>\n",
       "      <th>3</th>\n",
       "      <td>Here's yet another blasphemous European story ...</td>\n",
       "      <td>negative</td>\n",
       "      <td>[1993, 241, 158, 1, 2103, 66, 8, 61, 34, 4653,...</td>\n",
       "    </tr>\n",
       "    <tr>\n",
       "      <th>4</th>\n",
       "      <td>Robert Jordan is a television star. Robert Jor...</td>\n",
       "      <td>positive</td>\n",
       "      <td>[624, 4946, 7, 3, 670, 345, 624, 4946, 1155, 1...</td>\n",
       "    </tr>\n",
       "    <tr>\n",
       "      <th>...</th>\n",
       "      <td>...</td>\n",
       "      <td>...</td>\n",
       "      <td>...</td>\n",
       "    </tr>\n",
       "    <tr>\n",
       "      <th>19995</th>\n",
       "      <td>There will be a time where kids will have grow...</td>\n",
       "      <td>negative</td>\n",
       "      <td>[47, 78, 26, 3, 58, 115, 351, 78, 25, 2263, 54...</td>\n",
       "    </tr>\n",
       "    <tr>\n",
       "      <th>19996</th>\n",
       "      <td>I was 12 when this film was released and adore...</td>\n",
       "      <td>negative</td>\n",
       "      <td>[10, 13, 1109, 50, 11, 19, 13, 585, 4, 1, 9, 2...</td>\n",
       "    </tr>\n",
       "    <tr>\n",
       "      <th>19997</th>\n",
       "      <td>The ultimate gritty heist film. Elements of Bo...</td>\n",
       "      <td>positive</td>\n",
       "      <td>[2, 1935, 2584, 3231, 19, 764, 5, 1, 3858, 308...</td>\n",
       "    </tr>\n",
       "    <tr>\n",
       "      <th>19998</th>\n",
       "      <td>Well, I set out with a few friends to see this...</td>\n",
       "      <td>negative</td>\n",
       "      <td>[73, 10, 284, 44, 15, 3, 167, 331, 6, 67, 11, ...</td>\n",
       "    </tr>\n",
       "    <tr>\n",
       "      <th>19999</th>\n",
       "      <td>I never had an inkling while watching the movi...</td>\n",
       "      <td>positive</td>\n",
       "      <td>[10, 109, 63, 33, 1, 133, 144, 2, 17, 12, 9, 1...</td>\n",
       "    </tr>\n",
       "  </tbody>\n",
       "</table>\n",
       "<p>20000 rows × 3 columns</p>\n",
       "</div>"
      ],
      "text/plain": [
       "                                                  review sentiment  \\\n",
       "0      A movie about a mysterious love letter that pu...  negative   \n",
       "1      This is a film that had a lot to live down to ...  negative   \n",
       "2      A genuinely odd, surreal jumble of visual idea...  negative   \n",
       "3      Here's yet another blasphemous European story ...  negative   \n",
       "4      Robert Jordan is a television star. Robert Jor...  positive   \n",
       "...                                                  ...       ...   \n",
       "19995  There will be a time where kids will have grow...  negative   \n",
       "19996  I was 12 when this film was released and adore...  negative   \n",
       "19997  The ultimate gritty heist film. Elements of Bo...  positive   \n",
       "19998  Well, I set out with a few friends to see this...  negative   \n",
       "19999  I never had an inkling while watching the movi...  positive   \n",
       "\n",
       "                                       vectorized_review  \n",
       "0      [3, 17, 42, 3, 1279, 113, 2694, 12, 1381, 3, 3...  \n",
       "1      [11, 7, 3, 19, 12, 63, 3, 160, 6, 427, 185, 6,...  \n",
       "2      [3, 2005, 1029, 2307, 1, 5, 1108, 988, 61, 231...  \n",
       "3      [1993, 241, 158, 1, 2103, 66, 8, 61, 34, 4653,...  \n",
       "4      [624, 4946, 7, 3, 670, 345, 624, 4946, 1155, 1...  \n",
       "...                                                  ...  \n",
       "19995  [47, 78, 26, 3, 58, 115, 351, 78, 25, 2263, 54...  \n",
       "19996  [10, 13, 1109, 50, 11, 19, 13, 585, 4, 1, 9, 2...  \n",
       "19997  [2, 1935, 2584, 3231, 19, 764, 5, 1, 3858, 308...  \n",
       "19998  [73, 10, 284, 44, 15, 3, 167, 331, 6, 67, 11, ...  \n",
       "19999  [10, 109, 63, 33, 1, 133, 144, 2, 17, 12, 9, 1...  \n",
       "\n",
       "[20000 rows x 3 columns]"
      ]
     },
     "execution_count": 6,
     "metadata": {},
     "output_type": "execute_result"
    }
   ],
   "source": [
    "data['train']"
   ]
  },
  {
   "cell_type": "code",
   "execution_count": 7,
   "metadata": {},
   "outputs": [],
   "source": [
    "class TextClassificationModel(nn.Module):\n",
    "    def __init__(self, vocab_size, embed_dim):\n",
    "        super(TextClassificationModel, self).__init__()\n",
    "        self.embedding = nn.Embedding(vocab_size, embed_dim)\n",
    "        self.dropout1 = nn.Dropout(0.2)\n",
    "        self.global_avg_pool = nn.AdaptiveAvgPool1d(1)  # Global average pooling\n",
    "        self.dropout2 = nn.Dropout(0.2)\n",
    "        self.fc = nn.Linear(embed_dim, 1)  # Output layer for binary classification\n",
    "\n",
    "    def forward(self, text):\n",
    "        # text: [batch_size, seq_length]\n",
    "        embedded = self.embedding(text)  # [batch_size, seq_length, embed_dim]\n",
    "        embedded = self.dropout1(embedded)\n",
    "        # Permute `embedded` to apply pooling across the embedding dimension\n",
    "        embedded = embedded.permute(0, 2, 1)  # [batch_size, embed_dim, seq_length]\n",
    "        pooled = self.global_avg_pool(embedded)  # [batch_size, embed_dim, 1]\n",
    "        pooled = pooled.squeeze(2)  # [batch_size, embed_dim]\n",
    "        pooled = self.dropout2(pooled)\n",
    "        return torch.sigmoid(self.fc(pooled))  # Apply sigmoid activation\n"
   ]
  },
  {
   "cell_type": "code",
   "execution_count": 8,
   "metadata": {},
   "outputs": [],
   "source": [
    "embedding_dim = 16\n",
    "\n",
    "model = TextClassificationModel(vocab_size, embedding_dim)"
   ]
  },
  {
   "cell_type": "code",
   "execution_count": 9,
   "metadata": {},
   "outputs": [
    {
     "name": "stdout",
     "output_type": "stream",
     "text": [
      "Manual model summary\n",
      "Model Summary:\n",
      "embedding.weight: torch.Size([10000, 16]) => 160000 parameters\n",
      "fc.weight: torch.Size([1, 16]) => 16 parameters\n",
      "fc.bias: torch.Size([1]) => 1 parameters\n",
      "Total Parameters: 160017\n",
      "torchinfo summary\n"
     ]
    },
    {
     "data": {
      "text/plain": [
       "==========================================================================================\n",
       "Layer (type:depth-idx)                   Output Shape              Param #\n",
       "==========================================================================================\n",
       "TextClassificationModel                  [32, 1]                   --\n",
       "├─Embedding: 1-1                         [32, 250, 16]             160,000\n",
       "├─Dropout: 1-2                           [32, 250, 16]             --\n",
       "├─AdaptiveAvgPool1d: 1-3                 [32, 16, 1]               --\n",
       "├─Dropout: 1-4                           [32, 16]                  --\n",
       "├─Linear: 1-5                            [32, 1]                   17\n",
       "==========================================================================================\n",
       "Total params: 160,017\n",
       "Trainable params: 160,017\n",
       "Non-trainable params: 0\n",
       "Total mult-adds (M): 5.12\n",
       "==========================================================================================\n",
       "Input size (MB): 0.06\n",
       "Forward/backward pass size (MB): 1.02\n",
       "Params size (MB): 0.64\n",
       "Estimated Total Size (MB): 1.73\n",
       "=========================================================================================="
      ]
     },
     "execution_count": 9,
     "metadata": {},
     "output_type": "execute_result"
    }
   ],
   "source": [
    "def manual_model_summary(model):\n",
    "    print(\"Model Summary:\")\n",
    "    total_params = 0\n",
    "    for name, parameter in model.named_parameters():\n",
    "        if not parameter.requires_grad: continue\n",
    "        param = parameter.numel()\n",
    "        total_params += param\n",
    "        print(f\"{name}: {parameter.size()} => {param} parameters\")\n",
    "    print(f\"Total Parameters: {total_params}\")\n",
    "\n",
    "print (\"Manual model summary\")\n",
    "manual_model_summary(model)\n",
    "\n",
    "print (\"torchinfo summary\")\n",
    "summary(model, (32, sequence_length), dtypes=[torch.long])"
   ]
  },
  {
   "cell_type": "code",
   "execution_count": 10,
   "metadata": {},
   "outputs": [],
   "source": [
    "# Loss function\n",
    "loss_function = nn.BCELoss()\n",
    "\n",
    "# Optimizer\n",
    "optimizer = optim.Adam(model.parameters(), lr=0.001)\n",
    "\n",
    "# Metrics\n",
    "# For binary accuracy, we can define a function or use a library like torchmetrics\n",
    "def binary_accuracy(preds, y):\n",
    "    # Round predictions to the closest integer (0 or 1)\n",
    "    rounded_preds = torch.round(preds)\n",
    "    correct = (rounded_preds == y).float()  # Convert into float for division\n",
    "    acc = correct.sum() / len(correct)\n",
    "    return acc"
   ]
  },
  {
   "cell_type": "code",
   "execution_count": 11,
   "metadata": {},
   "outputs": [],
   "source": [
    "class ReviewSentimentDataset(Dataset):\n",
    "    def __init__(self, dataframe):\n",
    "        self.dataframe = dataframe\n",
    "\n",
    "    def __len__(self):\n",
    "        return len(self.dataframe)\n",
    "\n",
    "    def __getitem__(self, idx):\n",
    "        row = self.dataframe.iloc[idx]\n",
    "        # Assuming 'vectorized_review' is already a list of integers\n",
    "        review = torch.tensor(row['vectorized_review'], dtype=torch.long)\n",
    "        # Convert 'sentiment' to a binary label (0 or 1)\n",
    "        sentiment = torch.tensor(1 if row['sentiment'] == 'positive' else 0, dtype=torch.float)\n",
    "        return review, sentiment"
   ]
  },
  {
   "cell_type": "code",
   "execution_count": 12,
   "metadata": {},
   "outputs": [
    {
     "data": {
      "application/vnd.jupyter.widget-view+json": {
       "model_id": "278e986f3a3045d99cd953739390a4ba",
       "version_major": 2,
       "version_minor": 0
      },
      "text/plain": [
       "Epoch 1/10 [Training]:   0%|          | 0/625 [00:00<?, ?it/s]"
      ]
     },
     "metadata": {},
     "output_type": "display_data"
    },
    {
     "name": "stdout",
     "output_type": "stream",
     "text": [
      "Epoch 0 train loss: 0.6898, acc: 0.5447\n",
      "Epoch 0 dev loss: 0.6800, acc: 0.6361\n"
     ]
    },
    {
     "data": {
      "application/vnd.jupyter.widget-view+json": {
       "model_id": "6f2f64eb9ca04e7297b58a7e1eb63cb6",
       "version_major": 2,
       "version_minor": 0
      },
      "text/plain": [
       "Epoch 2/10 [Training]:   0%|          | 0/625 [00:00<?, ?it/s]"
      ]
     },
     "metadata": {},
     "output_type": "display_data"
    },
    {
     "name": "stdout",
     "output_type": "stream",
     "text": [
      "Epoch 1 train loss: 0.6583, acc: 0.6526\n",
      "Epoch 1 dev loss: 0.6312, acc: 0.7122\n"
     ]
    },
    {
     "data": {
      "application/vnd.jupyter.widget-view+json": {
       "model_id": "4d16c1749ef741b3a6422f34289266bb",
       "version_major": 2,
       "version_minor": 0
      },
      "text/plain": [
       "Epoch 3/10 [Training]:   0%|          | 0/625 [00:00<?, ?it/s]"
      ]
     },
     "metadata": {},
     "output_type": "display_data"
    },
    {
     "name": "stdout",
     "output_type": "stream",
     "text": [
      "Epoch 2 train loss: 0.5962, acc: 0.7219\n",
      "Epoch 2 dev loss: 0.5626, acc: 0.7725\n"
     ]
    },
    {
     "data": {
      "application/vnd.jupyter.widget-view+json": {
       "model_id": "1fb64f751fe345b59a350990b157ca5c",
       "version_major": 2,
       "version_minor": 0
      },
      "text/plain": [
       "Epoch 4/10 [Training]:   0%|          | 0/625 [00:00<?, ?it/s]"
      ]
     },
     "metadata": {},
     "output_type": "display_data"
    },
    {
     "name": "stdout",
     "output_type": "stream",
     "text": [
      "Epoch 3 train loss: 0.5287, acc: 0.7666\n",
      "Epoch 3 dev loss: 0.4978, acc: 0.8093\n"
     ]
    },
    {
     "data": {
      "application/vnd.jupyter.widget-view+json": {
       "model_id": "04df8fa07c9e450099c1ebb2b0d8932a",
       "version_major": 2,
       "version_minor": 0
      },
      "text/plain": [
       "Epoch 5/10 [Training]:   0%|          | 0/625 [00:00<?, ?it/s]"
      ]
     },
     "metadata": {},
     "output_type": "display_data"
    },
    {
     "name": "stdout",
     "output_type": "stream",
     "text": [
      "Epoch 4 train loss: 0.4679, acc: 0.8068\n",
      "Epoch 4 dev loss: 0.4442, acc: 0.8320\n"
     ]
    },
    {
     "data": {
      "application/vnd.jupyter.widget-view+json": {
       "model_id": "ca87adc45ee64d63824f13ce12cc03ca",
       "version_major": 2,
       "version_minor": 0
      },
      "text/plain": [
       "Epoch 6/10 [Training]:   0%|          | 0/625 [00:00<?, ?it/s]"
      ]
     },
     "metadata": {},
     "output_type": "display_data"
    },
    {
     "name": "stdout",
     "output_type": "stream",
     "text": [
      "Epoch 5 train loss: 0.4205, acc: 0.8306\n",
      "Epoch 5 dev loss: 0.4038, acc: 0.8443\n"
     ]
    },
    {
     "data": {
      "application/vnd.jupyter.widget-view+json": {
       "model_id": "6b294eda362d433f9b2d52a612f4fb8f",
       "version_major": 2,
       "version_minor": 0
      },
      "text/plain": [
       "Epoch 7/10 [Training]:   0%|          | 0/625 [00:00<?, ?it/s]"
      ]
     },
     "metadata": {},
     "output_type": "display_data"
    },
    {
     "name": "stdout",
     "output_type": "stream",
     "text": [
      "Epoch 6 train loss: 0.3833, acc: 0.8488\n",
      "Epoch 6 dev loss: 0.3753, acc: 0.8509\n"
     ]
    },
    {
     "data": {
      "application/vnd.jupyter.widget-view+json": {
       "model_id": "f0f1161d147b4d76a52cc1ced7275f57",
       "version_major": 2,
       "version_minor": 0
      },
      "text/plain": [
       "Epoch 8/10 [Training]:   0%|          | 0/625 [00:00<?, ?it/s]"
      ]
     },
     "metadata": {},
     "output_type": "display_data"
    },
    {
     "name": "stdout",
     "output_type": "stream",
     "text": [
      "Epoch 7 train loss: 0.3535, acc: 0.8607\n",
      "Epoch 7 dev loss: 0.3551, acc: 0.8567\n"
     ]
    },
    {
     "data": {
      "application/vnd.jupyter.widget-view+json": {
       "model_id": "8a4009c67e1642139ef14861d6068144",
       "version_major": 2,
       "version_minor": 0
      },
      "text/plain": [
       "Epoch 9/10 [Training]:   0%|          | 0/625 [00:00<?, ?it/s]"
      ]
     },
     "metadata": {},
     "output_type": "display_data"
    },
    {
     "name": "stdout",
     "output_type": "stream",
     "text": [
      "Epoch 8 train loss: 0.3324, acc: 0.8687\n",
      "Epoch 8 dev loss: 0.3396, acc: 0.8607\n"
     ]
    },
    {
     "data": {
      "application/vnd.jupyter.widget-view+json": {
       "model_id": "e5c6c6c049ee46828ea412f5a23baad2",
       "version_major": 2,
       "version_minor": 0
      },
      "text/plain": [
       "Epoch 10/10 [Training]:   0%|          | 0/625 [00:00<?, ?it/s]"
      ]
     },
     "metadata": {},
     "output_type": "display_data"
    },
    {
     "name": "stdout",
     "output_type": "stream",
     "text": [
      "Epoch 9 train loss: 0.3178, acc: 0.8733\n",
      "Epoch 9 dev loss: 0.3286, acc: 0.8629\n"
     ]
    }
   ],
   "source": [
    "# Assuming train_ds and val_ds are PyTorch Dataset objects\n",
    "train_loader = DataLoader(ReviewSentimentDataset(data['train']), batch_size=32, shuffle=True)\n",
    "val_loader = DataLoader(ReviewSentimentDataset(data['dev']), batch_size=32)\n",
    "\n",
    "epochs = 10\n",
    "device = 'cuda'\n",
    "history = []\n",
    "\n",
    "for epoch in range(epochs):\n",
    "    # Training phase\n",
    "    model.train()\n",
    "    train_progress_bar = tqdm(train_loader, desc=f\"Epoch {epoch+1}/{epochs} [Training]\")  # Wrap train_loader with tqdm\n",
    "    for texts, labels in train_progress_bar:\n",
    "        texts, labels = texts.to(device), labels.to(device)\n",
    "        optimizer.zero_grad()\n",
    "        predictions = model(texts).squeeze(1)\n",
    "\n",
    "        loss = loss_function(predictions, labels)\n",
    "        acc = binary_accuracy(predictions, labels)\n",
    "        loss.backward()\n",
    "        optimizer.step()\n",
    "\n",
    "        history.append({\n",
    "            'epoch': epoch,\n",
    "            'split': 'train',\n",
    "            'loss': loss.item(),\n",
    "            'acc': acc.item()\n",
    "        })\n",
    "\n",
    "    epoch_train_stats = pd.DataFrame(history).query(f\"epoch == {epoch} and split == 'train'\")\n",
    "    loss = epoch_train_stats['loss'].mean()\n",
    "    acc = epoch_train_stats['acc'].mean()\n",
    "    print (f\"Epoch {epoch} train loss: {loss:.4f}, acc: {acc:.4f}\")\n",
    "    \n",
    "    # Validation phase\n",
    "    model.eval()\n",
    "    with torch.no_grad():\n",
    "        for texts, labels in val_loader:\n",
    "            texts, labels = texts.to(device), labels.to(device)\n",
    "            predictions = model(texts).squeeze(1)\n",
    "            loss = loss_function(predictions, labels)\n",
    "            acc = binary_accuracy(predictions, labels)\n",
    "            \n",
    "            history.append({\n",
    "                'epoch': epoch,\n",
    "                'split': 'dev',\n",
    "                'loss': loss.item(),\n",
    "                'acc': acc.item()\n",
    "            })\n",
    "        \n",
    "        epoch_dev_stats = pd.DataFrame(history).query(f\"epoch == {epoch} and split == 'dev'\")\n",
    "        loss = epoch_dev_stats['loss'].mean()\n",
    "        acc = epoch_dev_stats['acc'].mean()\n",
    "        print (f\"Epoch {epoch} dev loss: {loss:.4f}, acc: {acc:.4f}\")\n",
    "    "
   ]
  },
  {
   "cell_type": "code",
   "execution_count": 28,
   "metadata": {},
   "outputs": [
    {
     "name": "stdout",
     "output_type": "stream",
     "text": [
      "Loss:  0.33930124266220785\n",
      "Accuracy:  0.8600543478260869\n"
     ]
    }
   ],
   "source": [
    "test_loader = DataLoader(ReviewSentimentDataset(data['test']), batch_size=32)\n",
    "model.eval()\n",
    "total_loss, total_acc = 0, 0\n",
    "\n",
    "with torch.no_grad():\n",
    "    for texts, labels in test_loader:\n",
    "        texts, labels = texts.to(device), labels.to(device)\n",
    "        predictions = model(texts).squeeze(1)\n",
    "        loss = loss_function(predictions, labels)\n",
    "        acc = binary_accuracy(predictions, labels)\n",
    "        # print (predictions, labels)\n",
    "        # assert False\n",
    "        total_loss += loss.item()\n",
    "        total_acc += acc.item()\n",
    "\n",
    "avg_loss = total_loss / len(test_loader)\n",
    "avg_acc = total_acc / len(test_loader)\n",
    "print(\"Loss: \", avg_loss)\n",
    "print(\"Accuracy: \", avg_acc)"
   ]
  },
  {
   "cell_type": "code",
   "execution_count": 29,
   "metadata": {},
   "outputs": [
    {
     "data": {
      "image/png": "[encoded data removed]",
      "text/plain": [
       "<Figure size 1400x600 with 2 Axes>"
      ]
     },
     "metadata": {},
     "output_type": "display_data"
    },
    {
     "data": {
      "image/png": "[encoded data removed]",
      "text/plain": [
       "<Figure size 1400x600 with 2 Axes>"
      ]
     },
     "metadata": {},
     "output_type": "display_data"
    }
   ],
   "source": [
    "# plot train and validation loss and accuracy over epochs\n",
    "# for each epoch, show a box plot of the loss and accuracy\n",
    "history_df = pd.DataFrame(history)\n",
    "plt.figure(figsize=(14, 6))\n",
    "plt.subplot(1, 2, 1)\n",
    "sns.boxplot(x='epoch', y='loss', hue='split', data=history_df)\n",
    "plt.title(\"Loss\")\n",
    "plt.subplot(1, 2, 2)\n",
    "sns.boxplot(x='epoch', y='acc', hue='split', data=history_df)\n",
    "plt.title(\"Accuracy\")\n",
    "plt.show()\n",
    "\n",
    "# do same plots but only show mean instead of box plot\n",
    "history_df = pd.DataFrame(history).groupby(['epoch', 'split']).mean().reset_index()\n",
    "plt.figure(figsize=(14, 6))\n",
    "plt.subplot(1, 2, 1)\n",
    "sns.lineplot(x='epoch', y='loss', hue='split', data=history_df)\n",
    "plt.title(\"Loss\")\n",
    "plt.subplot(1, 2, 2)\n",
    "sns.lineplot(x='epoch', y='acc', hue='split', data=history_df)\n",
    "plt.title(\"Accuracy\")\n",
    "plt.show()"
   ]
  },
  {
   "cell_type": "code",
   "execution_count": 35,
   "metadata": {},
   "outputs": [],
   "source": [
    "# make predictions on new data\n",
    "\n",
    "def predict_sentiment(text):\n",
    "    model.eval()\n",
    "    with torch.no_grad():\n",
    "        text = torch.tensor([vectorize_text(text)], dtype=torch.long).to(device)\n",
    "        prediction = model(text).item()\n",
    "        return 'positive' if prediction > 0.5 else 'negative', prediction"
   ]
  },
  {
   "cell_type": "code",
   "execution_count": 36,
   "metadata": {},
   "outputs": [
    {
     "name": "stdout",
     "output_type": "stream",
     "text": [
      "This movie is fantastic! -> positive (positive probability: 0.594059407711029)\n",
      "\n",
      "I really liked the movie -> positive (positive probability: 0.5776623487472534)\n",
      "\n",
      "Not a good movie -> positive (positive probability: 0.5234923362731934)\n",
      "\n",
      "I will never recommend this movie to anyone -> positive (positive probability: 0.5847715139389038)\n",
      "\n",
      "The movie was great! -> positive (positive probability: 0.6081189513206482)\n",
      "\n",
      "The movie was okay. -> negative (positive probability: 0.4714812636375427)\n",
      "\n",
      "The movie was terrible... -> negative (positive probability: 0.3927673101425171)\n",
      "\n",
      "terrible awful bad -> negative (positive probability: 0.20684494078159332)\n",
      "\n",
      "The movie was great and wonderful! But the popcorn we had there was terrible, awful, bad, the worst I've ever had. -> negative (positive probability: 0.19370687007904053)\n",
      "\n"
     ]
    }
   ],
   "source": [
    "sample_inputs = [\n",
    "    \"This movie is fantastic!\",\n",
    "    \"I really liked the movie\",\n",
    "    \"Not a good movie\",\n",
    "    \"I will never recommend this movie to anyone\",\n",
    "    \"The movie was great!\",\n",
    "    \"The movie was okay.\",\n",
    "    \"The movie was terrible...\",\n",
    "    \"terrible awful bad\",\n",
    "    \"The movie was great and wonderful! But the popcorn we had there was terrible, awful, bad, the worst I've ever had.\"\n",
    "]\n",
    "\n",
    "for text in sample_inputs:\n",
    "    label, prob = predict_sentiment(text)\n",
    "    print(f\"{text} -> {label} (positive probability: {prob})\\n\")"
   ]
  },
  {
   "cell_type": "code",
   "execution_count": null,
   "metadata": {},
   "outputs": [],
   "source": []
  },
  {
   "cell_type": "code",
   "execution_count": null,
   "metadata": {},
   "outputs": [],
   "source": []
  },
  {
   "cell_type": "code",
   "execution_count": null,
   "metadata": {},
   "outputs": [],
   "source": []
  },
  {
   "cell_type": "code",
   "execution_count": null,
   "metadata": {},
   "outputs": [],
   "source": []
  }
 ],
 "metadata": {
  "kernelspec": {
   "display_name": "py39",
   "language": "python",
   "name": "python3"
  },
  "language_info": {
   "codemirror_mode": {
    "name": "ipython",
    "version": 3
   },
   "file_extension": ".py",
   "mimetype": "text/x-python",
   "name": "python",
   "nbconvert_exporter": "python",
   "pygments_lexer": "ipython3",
   "version": "3.9.15"
  }
 },
 "nbformat": 4,
 "nbformat_minor": 2
}
